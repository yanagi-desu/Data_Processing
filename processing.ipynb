{
 "cells": [
  {
   "cell_type": "code",
   "execution_count": 1,
   "metadata": {},
   "outputs": [],
   "source": [
    "import pandas as pd\n",
    "import matplotlib.pyplot as plt\n",
    "from scipy import stats as stat"
   ]
  },
  {
   "cell_type": "code",
   "execution_count": 2,
   "metadata": {},
   "outputs": [],
   "source": [
    "survey_raw = pd.read_csv(\"Raw_survey_data.csv\")"
   ]
  },
  {
   "cell_type": "code",
   "execution_count": 3,
   "metadata": {},
   "outputs": [],
   "source": [
    "#loi = level of interest\n",
    "#!!!  Depended, don't delete !!!\n",
    "gender_loi = survey_raw[['Sex','q5']]\n",
    "#!!!  Depened, don't delete  !!!\n",
    "gender_raw = survey_raw.groupby(\"Sex\")\n",
    "total_male = len(gender_raw.get_group(1))\n",
    "total_female = len(gender_raw.get_group(2))\n",
    "#Experiment, count sum of each Sex\n",
    "#1 = Male, 2 = Female\n",
    "gender_total = survey_raw[['№',\"Sex\"]].groupby(\"Sex\").count()"
   ]
  },
  {
   "cell_type": "code",
   "execution_count": 4,
   "metadata": {},
   "outputs": [
    {
     "ename": "ValueError",
     "evalue": "shape mismatch: objects cannot be broadcast to a single shape",
     "output_type": "error",
     "traceback": [
      "\u001b[0;31m---------------------------------------------------------------------------\u001b[0m",
      "\u001b[0;31mValueError\u001b[0m                                Traceback (most recent call last)",
      "\u001b[0;32m<ipython-input-4-3a1ee9524e41>\u001b[0m in \u001b[0;36m<module>\u001b[0;34m\u001b[0m\n\u001b[1;32m     45\u001b[0m \u001b[0;32mfor\u001b[0m \u001b[0mi\u001b[0m \u001b[0;32min\u001b[0m \u001b[0mrange\u001b[0m\u001b[0;34m(\u001b[0m\u001b[0;36m1\u001b[0m\u001b[0;34m,\u001b[0m\u001b[0;36m4\u001b[0m\u001b[0;34m)\u001b[0m\u001b[0;34m:\u001b[0m\u001b[0;34m\u001b[0m\u001b[0;34m\u001b[0m\u001b[0m\n\u001b[1;32m     46\u001b[0m     \u001b[0mpre\u001b[0m \u001b[0;34m=\u001b[0m \u001b[0mpre\u001b[0m\u001b[0;34m+\u001b[0m\u001b[0mall_levels\u001b[0m\u001b[0;34m[\u001b[0m\u001b[0mi\u001b[0m\u001b[0;34m-\u001b[0m\u001b[0;36m1\u001b[0m\u001b[0;34m]\u001b[0m\u001b[0;34m\u001b[0m\u001b[0;34m\u001b[0m\u001b[0m\n\u001b[0;32m---> 47\u001b[0;31m     \u001b[0max\u001b[0m\u001b[0;34m.\u001b[0m\u001b[0mbar\u001b[0m\u001b[0;34m(\u001b[0m\u001b[0mlabels\u001b[0m\u001b[0;34m,\u001b[0m\u001b[0mall_levels\u001b[0m\u001b[0;34m[\u001b[0m\u001b[0mi\u001b[0m\u001b[0;34m]\u001b[0m\u001b[0;34m,\u001b[0m\u001b[0mwidth\u001b[0m \u001b[0;34m=\u001b[0m \u001b[0;36m0.65\u001b[0m\u001b[0;34m,\u001b[0m\u001b[0mbottom\u001b[0m\u001b[0;34m=\u001b[0m\u001b[0mpre\u001b[0m\u001b[0;34m,\u001b[0m\u001b[0mlabel\u001b[0m \u001b[0;34m=\u001b[0m \u001b[0;34m\"{}0s\"\u001b[0m\u001b[0;34m.\u001b[0m\u001b[0mformat\u001b[0m\u001b[0;34m(\u001b[0m\u001b[0mi\u001b[0m\u001b[0;34m+\u001b[0m\u001b[0;36m2\u001b[0m\u001b[0;34m)\u001b[0m\u001b[0;34m)\u001b[0m\u001b[0;34m\u001b[0m\u001b[0;34m\u001b[0m\u001b[0m\n\u001b[0m\u001b[1;32m     48\u001b[0m \u001b[0max\u001b[0m\u001b[0;34m.\u001b[0m\u001b[0mset_title\u001b[0m\u001b[0;34m(\u001b[0m\u001b[0;34m\"Distribution of Male and Female population in four Tokyo-Metropolitan Prefectures\"\u001b[0m\u001b[0;34m)\u001b[0m\u001b[0;34m\u001b[0m\u001b[0;34m\u001b[0m\u001b[0m\n\u001b[1;32m     49\u001b[0m \u001b[0max\u001b[0m\u001b[0;34m.\u001b[0m\u001b[0mlegend\u001b[0m\u001b[0;34m(\u001b[0m\u001b[0;34m)\u001b[0m\u001b[0;34m\u001b[0m\u001b[0;34m\u001b[0m\u001b[0m\n",
      "\u001b[0;32m~/opt/anaconda3/lib/python3.8/site-packages/matplotlib/__init__.py\u001b[0m in \u001b[0;36minner\u001b[0;34m(ax, data, *args, **kwargs)\u001b[0m\n\u001b[1;32m   1563\u001b[0m     \u001b[0;32mdef\u001b[0m \u001b[0minner\u001b[0m\u001b[0;34m(\u001b[0m\u001b[0max\u001b[0m\u001b[0;34m,\u001b[0m \u001b[0;34m*\u001b[0m\u001b[0margs\u001b[0m\u001b[0;34m,\u001b[0m \u001b[0mdata\u001b[0m\u001b[0;34m=\u001b[0m\u001b[0;32mNone\u001b[0m\u001b[0;34m,\u001b[0m \u001b[0;34m**\u001b[0m\u001b[0mkwargs\u001b[0m\u001b[0;34m)\u001b[0m\u001b[0;34m:\u001b[0m\u001b[0;34m\u001b[0m\u001b[0;34m\u001b[0m\u001b[0m\n\u001b[1;32m   1564\u001b[0m         \u001b[0;32mif\u001b[0m \u001b[0mdata\u001b[0m \u001b[0;32mis\u001b[0m \u001b[0;32mNone\u001b[0m\u001b[0;34m:\u001b[0m\u001b[0;34m\u001b[0m\u001b[0;34m\u001b[0m\u001b[0m\n\u001b[0;32m-> 1565\u001b[0;31m             \u001b[0;32mreturn\u001b[0m \u001b[0mfunc\u001b[0m\u001b[0;34m(\u001b[0m\u001b[0max\u001b[0m\u001b[0;34m,\u001b[0m \u001b[0;34m*\u001b[0m\u001b[0mmap\u001b[0m\u001b[0;34m(\u001b[0m\u001b[0msanitize_sequence\u001b[0m\u001b[0;34m,\u001b[0m \u001b[0margs\u001b[0m\u001b[0;34m)\u001b[0m\u001b[0;34m,\u001b[0m \u001b[0;34m**\u001b[0m\u001b[0mkwargs\u001b[0m\u001b[0;34m)\u001b[0m\u001b[0;34m\u001b[0m\u001b[0;34m\u001b[0m\u001b[0m\n\u001b[0m\u001b[1;32m   1566\u001b[0m \u001b[0;34m\u001b[0m\u001b[0m\n\u001b[1;32m   1567\u001b[0m         \u001b[0mbound\u001b[0m \u001b[0;34m=\u001b[0m \u001b[0mnew_sig\u001b[0m\u001b[0;34m.\u001b[0m\u001b[0mbind\u001b[0m\u001b[0;34m(\u001b[0m\u001b[0max\u001b[0m\u001b[0;34m,\u001b[0m \u001b[0;34m*\u001b[0m\u001b[0margs\u001b[0m\u001b[0;34m,\u001b[0m \u001b[0;34m**\u001b[0m\u001b[0mkwargs\u001b[0m\u001b[0;34m)\u001b[0m\u001b[0;34m\u001b[0m\u001b[0;34m\u001b[0m\u001b[0m\n",
      "\u001b[0;32m~/opt/anaconda3/lib/python3.8/site-packages/matplotlib/axes/_axes.py\u001b[0m in \u001b[0;36mbar\u001b[0;34m(self, x, height, width, bottom, align, **kwargs)\u001b[0m\n\u001b[1;32m   2338\u001b[0m                 \u001b[0myerr\u001b[0m \u001b[0;34m=\u001b[0m \u001b[0mself\u001b[0m\u001b[0;34m.\u001b[0m\u001b[0m_convert_dx\u001b[0m\u001b[0;34m(\u001b[0m\u001b[0myerr\u001b[0m\u001b[0;34m,\u001b[0m \u001b[0my0\u001b[0m\u001b[0;34m,\u001b[0m \u001b[0my\u001b[0m\u001b[0;34m,\u001b[0m \u001b[0mself\u001b[0m\u001b[0;34m.\u001b[0m\u001b[0mconvert_yunits\u001b[0m\u001b[0;34m)\u001b[0m\u001b[0;34m\u001b[0m\u001b[0;34m\u001b[0m\u001b[0m\n\u001b[1;32m   2339\u001b[0m \u001b[0;34m\u001b[0m\u001b[0m\n\u001b[0;32m-> 2340\u001b[0;31m         x, height, width, y, linewidth = np.broadcast_arrays(\n\u001b[0m\u001b[1;32m   2341\u001b[0m             \u001b[0;31m# Make args iterable too.\u001b[0m\u001b[0;34m\u001b[0m\u001b[0;34m\u001b[0m\u001b[0;34m\u001b[0m\u001b[0m\n\u001b[1;32m   2342\u001b[0m             np.atleast_1d(x), height, width, y, linewidth)\n",
      "\u001b[0;32m<__array_function__ internals>\u001b[0m in \u001b[0;36mbroadcast_arrays\u001b[0;34m(*args, **kwargs)\u001b[0m\n",
      "\u001b[0;32m~/opt/anaconda3/lib/python3.8/site-packages/numpy/lib/stride_tricks.py\u001b[0m in \u001b[0;36mbroadcast_arrays\u001b[0;34m(*args, **kwargs)\u001b[0m\n\u001b[1;32m    262\u001b[0m     \u001b[0margs\u001b[0m \u001b[0;34m=\u001b[0m \u001b[0;34m[\u001b[0m\u001b[0mnp\u001b[0m\u001b[0;34m.\u001b[0m\u001b[0marray\u001b[0m\u001b[0;34m(\u001b[0m\u001b[0m_m\u001b[0m\u001b[0;34m,\u001b[0m \u001b[0mcopy\u001b[0m\u001b[0;34m=\u001b[0m\u001b[0;32mFalse\u001b[0m\u001b[0;34m,\u001b[0m \u001b[0msubok\u001b[0m\u001b[0;34m=\u001b[0m\u001b[0msubok\u001b[0m\u001b[0;34m)\u001b[0m \u001b[0;32mfor\u001b[0m \u001b[0m_m\u001b[0m \u001b[0;32min\u001b[0m \u001b[0margs\u001b[0m\u001b[0;34m]\u001b[0m\u001b[0;34m\u001b[0m\u001b[0;34m\u001b[0m\u001b[0m\n\u001b[1;32m    263\u001b[0m \u001b[0;34m\u001b[0m\u001b[0m\n\u001b[0;32m--> 264\u001b[0;31m     \u001b[0mshape\u001b[0m \u001b[0;34m=\u001b[0m \u001b[0m_broadcast_shape\u001b[0m\u001b[0;34m(\u001b[0m\u001b[0;34m*\u001b[0m\u001b[0margs\u001b[0m\u001b[0;34m)\u001b[0m\u001b[0;34m\u001b[0m\u001b[0;34m\u001b[0m\u001b[0m\n\u001b[0m\u001b[1;32m    265\u001b[0m \u001b[0;34m\u001b[0m\u001b[0m\n\u001b[1;32m    266\u001b[0m     \u001b[0;32mif\u001b[0m \u001b[0mall\u001b[0m\u001b[0;34m(\u001b[0m\u001b[0marray\u001b[0m\u001b[0;34m.\u001b[0m\u001b[0mshape\u001b[0m \u001b[0;34m==\u001b[0m \u001b[0mshape\u001b[0m \u001b[0;32mfor\u001b[0m \u001b[0marray\u001b[0m \u001b[0;32min\u001b[0m \u001b[0margs\u001b[0m\u001b[0;34m)\u001b[0m\u001b[0;34m:\u001b[0m\u001b[0;34m\u001b[0m\u001b[0;34m\u001b[0m\u001b[0m\n",
      "\u001b[0;32m~/opt/anaconda3/lib/python3.8/site-packages/numpy/lib/stride_tricks.py\u001b[0m in \u001b[0;36m_broadcast_shape\u001b[0;34m(*args)\u001b[0m\n\u001b[1;32m    189\u001b[0m     \u001b[0;31m# use the old-iterator because np.nditer does not handle size 0 arrays\u001b[0m\u001b[0;34m\u001b[0m\u001b[0;34m\u001b[0m\u001b[0;34m\u001b[0m\u001b[0m\n\u001b[1;32m    190\u001b[0m     \u001b[0;31m# consistently\u001b[0m\u001b[0;34m\u001b[0m\u001b[0;34m\u001b[0m\u001b[0;34m\u001b[0m\u001b[0m\n\u001b[0;32m--> 191\u001b[0;31m     \u001b[0mb\u001b[0m \u001b[0;34m=\u001b[0m \u001b[0mnp\u001b[0m\u001b[0;34m.\u001b[0m\u001b[0mbroadcast\u001b[0m\u001b[0;34m(\u001b[0m\u001b[0;34m*\u001b[0m\u001b[0margs\u001b[0m\u001b[0;34m[\u001b[0m\u001b[0;34m:\u001b[0m\u001b[0;36m32\u001b[0m\u001b[0;34m]\u001b[0m\u001b[0;34m)\u001b[0m\u001b[0;34m\u001b[0m\u001b[0;34m\u001b[0m\u001b[0m\n\u001b[0m\u001b[1;32m    192\u001b[0m     \u001b[0;31m# unfortunately, it cannot handle 32 or more arguments directly\u001b[0m\u001b[0;34m\u001b[0m\u001b[0;34m\u001b[0m\u001b[0;34m\u001b[0m\u001b[0m\n\u001b[1;32m    193\u001b[0m     \u001b[0;32mfor\u001b[0m \u001b[0mpos\u001b[0m \u001b[0;32min\u001b[0m \u001b[0mrange\u001b[0m\u001b[0;34m(\u001b[0m\u001b[0;36m32\u001b[0m\u001b[0;34m,\u001b[0m \u001b[0mlen\u001b[0m\u001b[0;34m(\u001b[0m\u001b[0margs\u001b[0m\u001b[0;34m)\u001b[0m\u001b[0;34m,\u001b[0m \u001b[0;36m31\u001b[0m\u001b[0;34m)\u001b[0m\u001b[0;34m:\u001b[0m\u001b[0;34m\u001b[0m\u001b[0;34m\u001b[0m\u001b[0m\n",
      "\u001b[0;31mValueError\u001b[0m: shape mismatch: objects cannot be broadcast to a single shape"
     ]
    },
    {
     "name": "stderr",
     "output_type": "stream",
     "text": [
      "/Users/BlueWight/opt/anaconda3/lib/python3.8/site-packages/matplotlib/backends/backend_agg.py:214: RuntimeWarning: Glyph 22524 missing from current font.\n",
      "  font.set_text(s, 0.0, flags=flags)\n",
      "/Users/BlueWight/opt/anaconda3/lib/python3.8/site-packages/matplotlib/backends/backend_agg.py:214: RuntimeWarning: Glyph 29577 missing from current font.\n",
      "  font.set_text(s, 0.0, flags=flags)\n",
      "/Users/BlueWight/opt/anaconda3/lib/python3.8/site-packages/matplotlib/backends/backend_agg.py:214: RuntimeWarning: Glyph 21315 missing from current font.\n",
      "  font.set_text(s, 0.0, flags=flags)\n",
      "/Users/BlueWight/opt/anaconda3/lib/python3.8/site-packages/matplotlib/backends/backend_agg.py:214: RuntimeWarning: Glyph 33865 missing from current font.\n",
      "  font.set_text(s, 0.0, flags=flags)\n",
      "/Users/BlueWight/opt/anaconda3/lib/python3.8/site-packages/matplotlib/backends/backend_agg.py:214: RuntimeWarning: Glyph 26481 missing from current font.\n",
      "  font.set_text(s, 0.0, flags=flags)\n",
      "/Users/BlueWight/opt/anaconda3/lib/python3.8/site-packages/matplotlib/backends/backend_agg.py:214: RuntimeWarning: Glyph 20140 missing from current font.\n",
      "  font.set_text(s, 0.0, flags=flags)\n",
      "/Users/BlueWight/opt/anaconda3/lib/python3.8/site-packages/matplotlib/backends/backend_agg.py:214: RuntimeWarning: Glyph 31070 missing from current font.\n",
      "  font.set_text(s, 0.0, flags=flags)\n",
      "/Users/BlueWight/opt/anaconda3/lib/python3.8/site-packages/matplotlib/backends/backend_agg.py:214: RuntimeWarning: Glyph 22856 missing from current font.\n",
      "  font.set_text(s, 0.0, flags=flags)\n",
      "/Users/BlueWight/opt/anaconda3/lib/python3.8/site-packages/matplotlib/backends/backend_agg.py:214: RuntimeWarning: Glyph 24029 missing from current font.\n",
      "  font.set_text(s, 0.0, flags=flags)\n",
      "/Users/BlueWight/opt/anaconda3/lib/python3.8/site-packages/matplotlib/backends/backend_agg.py:183: RuntimeWarning: Glyph 22524 missing from current font.\n",
      "  font.set_text(s, 0, flags=flags)\n",
      "/Users/BlueWight/opt/anaconda3/lib/python3.8/site-packages/matplotlib/backends/backend_agg.py:183: RuntimeWarning: Glyph 29577 missing from current font.\n",
      "  font.set_text(s, 0, flags=flags)\n",
      "/Users/BlueWight/opt/anaconda3/lib/python3.8/site-packages/matplotlib/backends/backend_agg.py:183: RuntimeWarning: Glyph 21315 missing from current font.\n",
      "  font.set_text(s, 0, flags=flags)\n",
      "/Users/BlueWight/opt/anaconda3/lib/python3.8/site-packages/matplotlib/backends/backend_agg.py:183: RuntimeWarning: Glyph 33865 missing from current font.\n",
      "  font.set_text(s, 0, flags=flags)\n",
      "/Users/BlueWight/opt/anaconda3/lib/python3.8/site-packages/matplotlib/backends/backend_agg.py:183: RuntimeWarning: Glyph 26481 missing from current font.\n",
      "  font.set_text(s, 0, flags=flags)\n",
      "/Users/BlueWight/opt/anaconda3/lib/python3.8/site-packages/matplotlib/backends/backend_agg.py:183: RuntimeWarning: Glyph 20140 missing from current font.\n",
      "  font.set_text(s, 0, flags=flags)\n",
      "/Users/BlueWight/opt/anaconda3/lib/python3.8/site-packages/matplotlib/backends/backend_agg.py:183: RuntimeWarning: Glyph 31070 missing from current font.\n",
      "  font.set_text(s, 0, flags=flags)\n",
      "/Users/BlueWight/opt/anaconda3/lib/python3.8/site-packages/matplotlib/backends/backend_agg.py:183: RuntimeWarning: Glyph 22856 missing from current font.\n",
      "  font.set_text(s, 0, flags=flags)\n",
      "/Users/BlueWight/opt/anaconda3/lib/python3.8/site-packages/matplotlib/backends/backend_agg.py:183: RuntimeWarning: Glyph 24029 missing from current font.\n",
      "  font.set_text(s, 0, flags=flags)\n"
     ]
    },
    {
     "data": {
      "image/png": "[encoded data removed]",
      "text/plain": [
       "<Figure size 720x864 with 1 Axes>"
      ]
     },
     "metadata": {
      "needs_background": "light"
     },
     "output_type": "display_data"
    }
   ],
   "source": [
    "#-------------------------------------------------------------------------------------#\n",
    "#Quick Overview of the Data !!!TO BE USED IN PAPER                                    #  \n",
    "#-------------------------------------------------------------------------------------#\n",
    "# dummies = pd.DataFrame(,columns = [\"dummy\"])\n",
    "# fig, axes = plt.subplots(3, 1, figsize=(8, 16))\n",
    "groupedby_Age_Catagory=survey_raw \n",
    "groupedby_Age_Catagory[\"dummy\"] = [1]*1600\n",
    "groupedby_Age_Catagory_and_gender =  groupedby_Age_Catagory.groupby([\"Sex\",\"Age_Catagory\"]) \n",
    "groupedby_Age_Catagory = groupedby_Age_Catagory.groupby([\"Age_Catagory\"]).count()\n",
    "groupedby_Age_Catagory_and_gender = groupedby_Age_Catagory_and_gender.count()\n",
    "\n",
    "# groupedby_Age_Catagory[\"dummy\"].plot(kind=\"bar\")\n",
    "# groupedby_Age_Catagory_and_gender[\"dummy\"][1].plot(kind = \"bar\",ax = axes[1],title=\"Male\")\n",
    "# groupedby_Age_Catagory_and_gender[\"dummy\"][2].plot(kind = \"bar\",ax = axes[2],title=\"Female\")\n",
    "# groupedby_Age_Catagory[\"dummy\"].plot(kind=\"bar\",ax = axes[0],title=\"All\")\n",
    "\n",
    "# Distribution based on location and gender-age\n",
    "pivot_location_genderAndAge = survey_raw.pivot_table(\"dummy\",index = \"Prefecture_code\",columns = [\"Age_Catagory\"],aggfunc = sum)\n",
    "for each in pivot_location_genderAndAge:\n",
    "    dic = []\n",
    "#Normalize the value since male and female recipiants are not the same \n",
    "# pivot_location_genderAndAge[1] = pivot_location_genderAndAge[1]/total_male\n",
    "# pivot_location_genderAndAge[2] = pivot_location_genderAndAge[2]/total_female\n",
    "# (pivot_location_genderAndAge[1]).plot(kind = \"bar\",figsize = (20,10),title = \"Male\")\n",
    "# (pivot_location_genderAndAge[2]).plot(kind = \"bar\",figsize = (20,10),title = \"Female\")\n",
    "# pivot_location_genderAndAge.plot(kind = \"bar\",figsize = (20,10))\n",
    "pivot_location_genderAndAge\n",
    "#------Graph------#\n",
    "\n",
    "labels = [\"埼玉\",\"千葉\",\"東京\",\"神奈川\"]\n",
    "fig, ax = plt.subplots(figsize = (10,12))\n",
    "\n",
    "pre = 0\n",
    "all_levels = []\n",
    "for i in range(5):\n",
    "    tempA = []\n",
    "    for each in range(11,15):\n",
    "        temp = pivot_location_genderAndAge.loc[each]\n",
    "        temp = temp.loc[i+2]\n",
    "        tempA.append(temp)\n",
    "    all_levels.append(tempA)\n",
    "all_levels[0]\n",
    "ax.bar(labels,all_levels[0],width = 0.65,bottom=pre,label = \"20s\")\n",
    "pre =[0]*5\n",
    "for i in range(1,4):\n",
    "    pre = pre+all_levels[i-1]\n",
    "    ax.bar(labels,all_levels[i],width = 0.65,bottom=pre,label = \"{}0s\".format(i+2))\n",
    "ax.set_title(\"Distribution of Male and Female population in four Tokyo-Metropolitan Prefectures\")\n",
    "ax.legend()\n",
    "plt.show()\n",
    "\n",
    "# plt.savefig('Distribution_of_Male_and_Female_population.png')"
   ]
  },
  {
   "cell_type": "code",
   "execution_count": null,
   "metadata": {},
   "outputs": [],
   "source": [
    "\n",
    "#------Graph------#\n",
    "\n",
    "labels = [\"埼玉\", \"千葉\",\"東京\",\"神奈川\"]\n",
    "fig, ax = plt.subplots(figsize = (10,12))\n",
    "# ax.bar(labels, pivot_location_genderAndAge.loc[11][0],width = 0.65,label = \"11\")\n",
    "pre = 0\n",
    "all_levels = []\n",
    "for i in range(11,15):\n",
    "    temp = pivot_location_genderAndAge.loc[i]\n",
    "    all_levels.append(temp.loc[1])\n",
    "ax.bar(labels,all_levels,width = 0.65,bottom=pre,label = \"Male\")\n",
    "pre = all_levels\n",
    "all_levels = []\n",
    "for i in range(11,15):\n",
    "    temp = pivot_location_genderAndAge.loc[i]\n",
    "    all_levels.append(temp.loc[2])\n",
    "ax.bar(labels,all_levels,width = 0.65,bottom=pre,label = \"Female\")\n",
    "\n",
    "ax.set_title(\"Distribution of Male and Female population in four Tokyo-Metropolitan Prefectures\")\n",
    "ax.legend()\n",
    "\n",
    "plt.savefig('Distribution_of_Male_and_Female_population.png')"
   ]
  },
  {
   "cell_type": "code",
   "execution_count": null,
   "metadata": {},
   "outputs": [],
   "source": [
    "gender_loi_grouped_male = gender_loi.groupby([\"Sex\"]).get_group(1)\n",
    "gender_loi_grouped_female = gender_loi.groupby([\"Sex\"]).get_group(2)"
   ]
  },
  {
   "cell_type": "code",
   "execution_count": 5,
   "metadata": {},
   "outputs": [
    {
     "data": {
      "text/plain": [
       "<matplotlib.axes._subplots.AxesSubplot at 0x7fb5f3877880>"
      ]
     },
     "execution_count": 5,
     "metadata": {},
     "output_type": "execute_result"
    },
    {
     "data": {
      "image/png": "[encoded data removed]",
      "text/plain": [
       "<Figure size 432x288 with 1 Axes>"
      ]
     },
     "metadata": {
      "needs_background": "light"
     },
     "output_type": "display_data"
    },
    {
     "data": {
      "image/png": "[encoded data removed]",
      "text/plain": [
       "<Figure size 432x288 with 1 Axes>"
      ]
     },
     "metadata": {
      "needs_background": "light"
     },
     "output_type": "display_data"
    },
    {
     "data": {
      "image/png": "[encoded data removed]",
      "text/plain": [
       "<Figure size 432x288 with 1 Axes>"
      ]
     },
     "metadata": {
      "needs_background": "light"
     },
     "output_type": "display_data"
    },
    {
     "data": {
      "image/png": "[encoded data removed]",
      "text/plain": [
       "<Figure size 432x288 with 1 Axes>"
      ]
     },
     "metadata": {
      "needs_background": "light"
     },
     "output_type": "display_data"
    }
   ],
   "source": [
    "#------------------------------------------------------------------------------------------------------------------#\n",
    "#Examine difference in level of interest on Market between male and female, based on locationa and marriage status #  \n",
    "#------------------------------------------------------------------------------------------------------------------#\n",
    "# gender_loi_grouped_male_bar = gender_loi_grouped_male.groupby([\"q5\"]).sum()/int(gender_total.loc[1])\n",
    "# gender_loi_grouped_female_bar = gender_loi_grouped_female.groupby([\"q5\"]).sum()/int(gender_total.loc[2])\n",
    "# # gender_loi_grouped_male_bar.plot(kind=\"bar\")\n",
    "# (gender_loi_grouped_female_bar/2).plot(kind=\"bar\")\n",
    "# gender_loi_grouped_male_bar.plot(kind=\"bar\")\n",
    "# gender_loi_grouped_male_bar.plot()\n",
    "# plt.plot((gender_loi_grouped_female_bar/2))\n",
    "# fig = plt.figure()\n",
    "# female_loi = fig.add_subplot(1,2,1)\n",
    "# female_loi = fig.add_subplot(1,2,2)\n",
    "# loi_gender_plt[0].hist(gender_loi_grouped_male_bar)\n",
    "# # gender_loi_grouped_female_bar.plot(kind=\"bar\")\n",
    "# loi_gender_plt[1].hist(gender_loi_grouped_female_bar)\n",
    "# loi_gender_plt[1].set_title(\"Level of Interest Comparison Based on Gender\")\n",
    "# loi_gender_plt[1].set_xlabel(\"Level of Interest\")\n",
    "# loi_gender_plt[1].set_ylabel(\"Percentage of Answer\")\n",
    "pivot_loi_gender = survey_raw.pivot_table(\"dummy\",index = \"q5\",columns = [\"Sex\"],aggfunc = sum)\n",
    "#Marriage\n",
    "pivot_loi_gender_married = survey_raw.pivot_table(\"dummy\",index = \"q5\",columns = [\"Sex\",\"Married\"],aggfunc = sum)\n",
    "pivot_loi_gender_married[1] = pivot_loi_gender_married[1] / total_male\n",
    "pivot_loi_gender_married[2] = pivot_loi_gender_married[2] / total_female\n",
    "#Prefecture of Living\n",
    "pivot_loi_gender_prefecture = survey_raw.pivot_table(\"dummy\",index = \"q5\",columns = [\"Sex\",\"Prefecture_code\"],aggfunc = sum)\n",
    "pivot_loi_gender_prefecture[1] = pivot_loi_gender_prefecture[1] / total_male\n",
    "pivot_loi_gender_prefecture[2] = pivot_loi_gender_prefecture[2] / total_female\n",
    "pivot_loi_gender.plot(kind = \"bar\")\n",
    "pivot_loi_gender_married.plot(kind = \"bar\")\n",
    "pivot_loi_gender_prefecture[1].plot(kind = \"bar\",title=\"Male\")\n",
    "pivot_loi_gender_prefecture[2].plot(kind = \"bar\",title=\"Female\")"
   ]
  },
  {
   "cell_type": "code",
   "execution_count": null,
   "metadata": {},
   "outputs": [],
   "source": [
    "survey_raw = survey_raw"
   ]
  },
  {
   "cell_type": "code",
   "execution_count": 7,
   "metadata": {},
   "outputs": [],
   "source": [
    "#--------------------------------------------------------------------------#\n",
    "# Examine LOI for market based on age and living type, with respect to sex #  \n",
    "#--------------------------------------------------------------------------#\n",
    "pivot_gender_age = survey_raw.pivot_table(\"dummy\",index = \"q5\", columns = [\"Sex\",\"Age_Catagory\"],aggfunc = sum)\n",
    "pivot_gender_age[1] = pivot_gender_age[1]/total_male\n",
    "pivot_gender_age[2] = pivot_gender_age[2]/total_female\n",
    "# pivot_gender_age.plot(kind = \"bar\",figsize = (20,10))\n",
    "pivot_gender_typeOfRes = survey_raw.pivot_table(\"dummy\",index = \"q5\", columns = [\"Sex\",\"q17\"],aggfunc = sum)\n",
    "pivot_gender_typeOfRes[1] = pivot_gender_typeOfRes[1]/total_male\n",
    "pivot_gender_typeOfRes[2] = pivot_gender_typeOfRes[2]/total_female\n",
    "# pivot_gender_typeOfRes.plot(kind = \"bar\", figsize = (20,10))"
   ]
  },
  {
   "cell_type": "code",
   "execution_count": 11,
   "metadata": {},
   "outputs": [
    {
     "name": "stdout",
     "output_type": "stream",
     "text": [
      "q17\n",
      "1    450\n",
      "2     50\n",
      "3    400\n",
      "4    668\n",
      "5     24\n",
      "6      1\n",
      "7      7\n",
      "Name: dummy, dtype: int64\n"
     ]
    },
    {
     "data": {
      "text/plain": [
       "<AxesSubplot:xlabel='q5'>"
      ]
     },
     "execution_count": 11,
     "metadata": {},
     "output_type": "execute_result"
    },
    {
     "data": {
      "image/png": "[encoded data removed]",
      "text/plain": [
       "<Figure size 432x288 with 1 Axes>"
      ]
     },
     "metadata": {
      "needs_background": "light"
     },
     "output_type": "display_data"
    }
   ],
   "source": [
    "pivot_typeOfRes = survey_raw.pivot_table(\"dummy\",index = \"q5\", columns = [\"q17\"],aggfunc = sum)\n",
    "typeOfRes = survey_raw.groupby(\"q17\").count()\n",
    "typeOfRes_count = typeOfRes[\"dummy\"]\n",
    "print(typeOfRes_count)\n",
    "for i in range(1,8):\n",
    "    pivot_typeOfRes[i] = pivot_typeOfRes[i]/typeOfRes_count[i]\n",
    "pivot_typeOfRes.plot(kind = \"bar\")"
   ]
  },
  {
   "cell_type": "code",
   "execution_count": 12,
   "metadata": {},
   "outputs": [],
   "source": [
    "#----------------------------------------------------------------------------#\n",
    "#Examine difference in level of interest between married and unmarried female#  \n",
    "#----------------------------------------------------------------------------#\n",
    "#Inital Filtering\n",
    "female_only = gender_raw.get_group(2)\n",
    "female_marriage_count = female_only.groupby(\"Married\").count()\n",
    "female_married_total = female_marriage_count[\"№\"][2] \n",
    "female_single_total = female_marriage_count[\"№\"][1] \n",
    "\n",
    "#Deep Filtering\n",
    "female_marriage_loi = female_only[[\"Married\",\"q5\"]]\n",
    "loi_grouped_single = female_marriage_loi.groupby([\"Married\"]).get_group(1)\n",
    "loi_grouped_married = female_marriage_loi.groupby([\"Married\"]).get_group(2)\n",
    "loi_grouped_single_bar = (loi_grouped_single.groupby([\"q5\"]).count())/female_single_total\n",
    "loi_grouped_married_bar = (loi_grouped_married.groupby([\"q5\"]).count())/female_married_total\n",
    "\n",
    "#Graphs\n",
    "# graph = loi_grouped_single_bar.plot(kind=\"bar\",title=\"Single\",xlabel = \"Level of Interest\",ylabel = \"Percentage\")\n",
    "# grahp2 = loi_grouped_married_bar.plot(kind=\"bar\",title=\"Married\",xlabel = \"Level of Interest\",ylabel = \"Percentage\")"
   ]
  },
  {
   "cell_type": "code",
   "execution_count": 13,
   "metadata": {},
   "outputs": [],
   "source": [
    "#----------------------------------------------------------------------------#\n",
    "#Examine difference in level of interest between married and unmarried male#  \n",
    "#----------------------------------------------------------------------------#\n",
    "#Inital Filtering\n",
    "male_only = gender_raw.get_group(1)\n",
    "male_marriage_count = male_only.groupby(\"Married\").count()\n",
    "male_married_total = male_marriage_count[\"№\"][2] \n",
    "male_single_total = male_marriage_count[\"№\"][1] \n",
    "\n",
    "#Deep Filtering\n",
    "male_marriage_loi = male_only[[\"Married\",\"q5\"]]\n",
    "loi_grouped_single = male_marriage_loi.groupby([\"Married\"]).get_group(1)\n",
    "loi_grouped_married = male_marriage_loi.groupby([\"Married\"]).get_group(2)\n",
    "loi_grouped_single_bar = (loi_grouped_single.groupby([\"q5\"]).count())/male_single_total\n",
    "loi_grouped_married_bar = (loi_grouped_married.groupby([\"q5\"]).count())/male_married_total"
   ]
  },
  {
   "cell_type": "code",
   "execution_count": 14,
   "metadata": {},
   "outputs": [],
   "source": [
    "#----------------------------------------------------------------------------#\n",
    "#Examine level of interest mean across all attributes#  \n",
    "#----------------------------------------------------------------------------#\n",
    "mean_by_gender_and_prefecture = survey_raw.pivot_table('q5',index = 'Prefecture_code',columns = \"Sex\",aggfunc = \"mean\")\n",
    "mean_by_gender_and_age = survey_raw.pivot_table('q5',index = 'Age',columns = \"Sex\",aggfunc = \"mean\")\n",
    "mean_by_gender_and_occupation = survey_raw.pivot_table('q5',index = 'f5',columns = \"Sex\",aggfunc = \"mean\")\n",
    "mean_by_gender_and_location_of_living = survey_raw.pivot_table('q5',index = 'q18',columns = \"Sex\",aggfunc = \"mean\")"
   ]
  },
  {
   "cell_type": "code",
   "execution_count": 15,
   "metadata": {},
   "outputs": [
    {
     "ename": "NameError",
     "evalue": "name 'mean_by_gender' is not defined",
     "output_type": "error",
     "traceback": [
      "\u001b[0;31m---------------------------------------------------------------------------\u001b[0m",
      "\u001b[0;31mNameError\u001b[0m                                 Traceback (most recent call last)",
      "\u001b[0;32m<ipython-input-15-d86ce460cf5f>\u001b[0m in \u001b[0;36m<module>\u001b[0;34m\u001b[0m\n\u001b[0;32m----> 1\u001b[0;31m \u001b[0mmean_by_gender\u001b[0m\u001b[0;34m[\u001b[0m\u001b[0;34m:\u001b[0m\u001b[0;36m10\u001b[0m\u001b[0;34m]\u001b[0m\u001b[0;34m\u001b[0m\u001b[0;34m\u001b[0m\u001b[0m\n\u001b[0m\u001b[1;32m      2\u001b[0m \u001b[0mmean_by_gender_and_age\u001b[0m\u001b[0;34m[\u001b[0m\u001b[0;34m:\u001b[0m\u001b[0;36m30\u001b[0m\u001b[0;34m]\u001b[0m\u001b[0;34m\u001b[0m\u001b[0;34m\u001b[0m\u001b[0m\n\u001b[1;32m      3\u001b[0m \u001b[0mmean_by_gender_and_age\u001b[0m\u001b[0;34m[\u001b[0m\u001b[0;36m1\u001b[0m\u001b[0;34m]\u001b[0m\u001b[0;34m.\u001b[0m\u001b[0mplot\u001b[0m\u001b[0;34m(\u001b[0m\u001b[0;34m)\u001b[0m\u001b[0;34m\u001b[0m\u001b[0;34m\u001b[0m\u001b[0m\n\u001b[1;32m      4\u001b[0m \u001b[0mmean_by_gender_and_age\u001b[0m\u001b[0;34m[\u001b[0m\u001b[0;36m2\u001b[0m\u001b[0;34m]\u001b[0m\u001b[0;34m.\u001b[0m\u001b[0mplot\u001b[0m\u001b[0;34m(\u001b[0m\u001b[0;34m)\u001b[0m\u001b[0;34m\u001b[0m\u001b[0;34m\u001b[0m\u001b[0m\n",
      "\u001b[0;31mNameError\u001b[0m: name 'mean_by_gender' is not defined"
     ]
    }
   ],
   "source": [
    "mean_by_gender[:10]\n",
    "mean_by_gender_and_age[:30]\n",
    "mean_by_gender_and_age[1].plot()\n",
    "mean_by_gender_and_age[2].plot()"
   ]
  },
  {
   "cell_type": "code",
   "execution_count": 16,
   "metadata": {},
   "outputs": [
    {
     "data": {
      "text/plain": [
       "<AxesSubplot:xlabel='f5'>"
      ]
     },
     "execution_count": 16,
     "metadata": {},
     "output_type": "execute_result"
    },
    {
     "data": {
      "image/png": "[encoded data removed]",
      "text/plain": [
       "<Figure size 432x288 with 1 Axes>"
      ]
     },
     "metadata": {
      "needs_background": "light"
     },
     "output_type": "display_data"
    }
   ],
   "source": [
    "# mean_by_gender_and_occupation[1].plot(kind=\"bar\")\n",
    "mean_by_gender_and_occupation[2].plot(kind=\"bar\")"
   ]
  },
  {
   "cell_type": "code",
   "execution_count": 17,
   "metadata": {},
   "outputs": [
    {
     "data": {
      "text/plain": [
       "<AxesSubplot:xlabel='q18'>"
      ]
     },
     "execution_count": 17,
     "metadata": {},
     "output_type": "execute_result"
    },
    {
     "data": {
      "image/png": "[encoded data removed]",
      "text/plain": [
       "<Figure size 432x288 with 1 Axes>"
      ]
     },
     "metadata": {
      "needs_background": "light"
     },
     "output_type": "display_data"
    }
   ],
   "source": [
    "mean_by_gender_and_location_of_living[2].plot(kind = \"bar\")"
   ]
  },
  {
   "cell_type": "code",
   "execution_count": 18,
   "metadata": {},
   "outputs": [
    {
     "data": {
      "text/plain": [
       "q17\n",
       "2    1.268777\n",
       "1    1.215183\n",
       "4    1.183669\n",
       "3    1.160198\n",
       "7    1.112697\n",
       "5    1.082636\n",
       "6         NaN\n",
       "Name: q5, dtype: float64"
      ]
     },
     "execution_count": 18,
     "metadata": {},
     "output_type": "execute_result"
    }
   ],
   "source": [
    "#----------------------------------------------------------------------------#\n",
    "#Standard Variation of the level of interest among all survey metrics#  \n",
    "#----------------------------------------------------------------------------#\n",
    "std_loi_market_amongall = survey_raw.groupby(\"q17\")['q5'].std()\n",
    "std_loi_market_amongall.sort_values(ascending = False)[:10]"
   ]
  },
  {
   "cell_type": "code",
   "execution_count": 19,
   "metadata": {},
   "outputs": [
    {
     "data": {
      "text/plain": [
       "<AxesSubplot:title={'center':'Mean of loi in relation with age'}, xlabel='Age_Catagory'>"
      ]
     },
     "execution_count": 19,
     "metadata": {},
     "output_type": "execute_result"
    },
    {
     "data": {
      "image/png": "[encoded data removed]",
      "text/plain": [
       "<Figure size 432x288 with 1 Axes>"
      ]
     },
     "metadata": {
      "needs_background": "light"
     },
     "output_type": "display_data"
    }
   ],
   "source": [
    "#----------------------------------------------------------------------#\n",
    "# Standard Variation of the level of interest among all survey metrics #  \n",
    "#----------------------------------------------------------------------#\n",
    "ditribution_of_loi_basedOn_ageGroup = survey_raw.pivot_table('q5', index = \"Age_Catagory\",columns=\"Sex\",aggfunc = \"mean\")\n",
    "ditribution_of_loi_basedOn_ageGroup.plot(kind=\"bar\",title = \"Mean of loi in relation with age\")"
   ]
  },
  {
   "cell_type": "code",
   "execution_count": 1,
   "metadata": {},
   "outputs": [
    {
     "name": "stdout",
     "output_type": "stream",
     "text": [
      "89.86057406524593\n"
     ]
    }
   ],
   "source": [
    "prob = [1/169911,5/169911,125/169911,3250/169911]\n",
    "rew = [10046800,144300,10000,1000]\n",
    "sum_ = 0\n",
    "for i in range(len(prob)):\n",
    "    sum_+=prob[i]*rew[i]    \n",
    "print(sum_)"
   ]
  },
  {
   "cell_type": "code",
   "execution_count": null,
   "metadata": {},
   "outputs": [],
   "source": []
  }
 ],
 "metadata": {
  "kernelspec": {
   "display_name": "Python 3",
   "language": "python",
   "name": "python3"
  },
  "language_info": {
   "codemirror_mode": {
    "name": "ipython",
    "version": 3
   },
   "file_extension": ".py",
   "mimetype": "text/x-python",
   "name": "python",
   "nbconvert_exporter": "python",
   "pygments_lexer": "ipython3",
   "version": "3.8.3"
  }
 },
 "nbformat": 4,
 "nbformat_minor": 5
}
