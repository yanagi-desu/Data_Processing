{
 "cells": [
  {
   "cell_type": "code",
   "execution_count": 32,
   "metadata": {},
   "outputs": [],
   "source": [
    "from scipy import stats as st\n",
    "from scipy.stats import chisquare\n",
    "import pandas as pd\n",
    "import numpy as np\n",
    "import matplotlib.pyplot as plt\n",
    "from statsmodels.stats.multicomp import pairwise_tukeyhsd\n",
    "from scipy.stats import shapiro"
   ]
  },
  {
   "cell_type": "code",
   "execution_count": 33,
   "metadata": {},
   "outputs": [],
   "source": [
    "survey_raw = pd.read_csv(\"Raw_survey_data.csv\")\n",
    "survey_raw[\"dummy\"] = [1]*1600\n",
    "survey_raw = survey_raw.rename(columns = {'q4':'LOIF','q5':'LOTM','q8':'LOIT','q17':'House_Status','q18':'Household_Status','q19':'Grocery_Budget_Strictness','Age_Catagory':\"Age Category\"},errors=\"raise\")\n"
   ]
  },
  {
   "cell_type": "code",
   "execution_count": 34,
   "metadata": {},
   "outputs": [
    {
     "name": "stdout",
     "output_type": "stream",
     "text": [
      "Age Category\n",
      "2    275\n",
      "3    310\n",
      "4    396\n",
      "5    336\n",
      "6    283\n",
      "Name: dummy, dtype: int64\n",
      "Statistics=0.912, p=0.480\n"
     ]
    },
    {
     "data": {
      "text/plain": [
       "Text(0.5, 1.0, 'Population distrubtion of Age Category')"
      ]
     },
     "execution_count": 34,
     "metadata": {},
     "output_type": "execute_result"
    },
    {
     "data": {
      "image/png": "[encoded data removed]",
      "text/plain": [
       "<Figure size 432x288 with 1 Axes>"
      ]
     },
     "metadata": {
      "needs_background": "light"
     },
     "output_type": "display_data"
    }
   ],
   "source": [
    "#--------------------------------------------------------------------------------#\n",
    "#Before Running Anova, Test for normality                                                           #  \n",
    "#--------------------------------------------------------------------------------#\n",
    "data = survey_raw.groupby(\"Age Category\").count()\n",
    "data = data[\"dummy\"]\n",
    "print(data)\n",
    "stat, p = shapiro(data)\n",
    "print('Statistics=%.3f, p=%.3f' % (stat, p))\n",
    "data.plot(kind = \"bar\")\n",
    "plt.title(\"Population distrubtion of Age Category\")"
   ]
  },
  {
   "cell_type": "code",
   "execution_count": 35,
   "metadata": {},
   "outputs": [
    {
     "name": "stdout",
     "output_type": "stream",
     "text": [
      "F_onewayResult(statistic=3.5345040296791903, pvalue=0.007030069382879867)\n"
     ]
    },
    {
     "data": {
      "text/html": [
       "<table class=\"simpletable\">\n",
       "<caption>Multiple Comparison of Means - Tukey HSD, FWER=0.05</caption>\n",
       "<tr>\n",
       "  <th>group1</th> <th>group2</th> <th>meandiff</th>  <th>p-adj</th>  <th>lower</th>   <th>upper</th>  <th>reject</th>\n",
       "</tr>\n",
       "<tr>\n",
       "     <td>1</td>      <td>2</td>    <td>0.0211</td>    <td>0.9</td>  <td>-0.2278</td> <td>0.2701</td>   <td>False</td>\n",
       "</tr>\n",
       "<tr>\n",
       "     <td>1</td>      <td>3</td>    <td>-0.0664</td>   <td>0.9</td>   <td>-0.32</td>  <td>0.1871</td>   <td>False</td>\n",
       "</tr>\n",
       "<tr>\n",
       "     <td>1</td>      <td>4</td>    <td>-0.0995</td> <td>0.8318</td> <td>-0.3684</td> <td>0.1694</td>   <td>False</td>\n",
       "</tr>\n",
       "<tr>\n",
       "     <td>1</td>      <td>5</td>    <td>-0.7291</td>  <td>0.004</td> <td>-1.294</td>  <td>-0.1642</td>  <td>True</td> \n",
       "</tr>\n",
       "<tr>\n",
       "     <td>2</td>      <td>3</td>    <td>-0.0875</td> <td>0.8837</td> <td>-0.3477</td> <td>0.1726</td>   <td>False</td>\n",
       "</tr>\n",
       "<tr>\n",
       "     <td>2</td>      <td>4</td>    <td>-0.1206</td> <td>0.7259</td> <td>-0.3957</td> <td>0.1545</td>   <td>False</td>\n",
       "</tr>\n",
       "<tr>\n",
       "     <td>2</td>      <td>5</td>    <td>-0.7502</td> <td>0.0029</td> <td>-1.3181</td> <td>-0.1823</td>  <td>True</td> \n",
       "</tr>\n",
       "<tr>\n",
       "     <td>3</td>      <td>4</td>    <td>-0.0331</td>   <td>0.9</td>  <td>-0.3124</td> <td>0.2462</td>   <td>False</td>\n",
       "</tr>\n",
       "<tr>\n",
       "     <td>3</td>      <td>5</td>    <td>-0.6627</td> <td>0.0132</td> <td>-1.2326</td> <td>-0.0927</td>  <td>True</td> \n",
       "</tr>\n",
       "<tr>\n",
       "     <td>4</td>      <td>5</td>    <td>-0.6296</td> <td>0.0244</td> <td>-1.2065</td> <td>-0.0526</td>  <td>True</td> \n",
       "</tr>\n",
       "</table>"
      ],
      "text/plain": [
       "<class 'statsmodels.iolib.table.SimpleTable'>"
      ]
     },
     "execution_count": 35,
     "metadata": {},
     "output_type": "execute_result"
    },
    {
     "data": {
      "image/png": "[encoded data removed]",
      "text/plain": [
       "<Figure size 720x432 with 1 Axes>"
      ]
     },
     "metadata": {
      "needs_background": "light"
     },
     "output_type": "display_data"
    }
   ],
   "source": [
    "#--------------------------------------------------------------------------------#\n",
    "#ANOVA ON Age Category and LOIT                                                           #  \n",
    "#--------------------------------------------------------------------------------#\n",
    "age_and_loit = survey_raw[{\"LOIT\",\"Age Category\"}]\n",
    "group_by_Age_Category = age_and_loit.groupby(\"LOIT\")\n",
    "groups = []\n",
    "lotmlabel = []\n",
    "ages = []\n",
    "\n",
    "for i in range(1,6):\n",
    "    for each in group_by_Age_Category.get_group(i)[\"Age Category\"]:\n",
    "        ages.append(each)\n",
    "        lotmlabel.append(i)\n",
    "    groups.append(group_by_Age_Category.get_group(i)[\"Age Category\"])\n",
    "print(st.f_oneway(*groups))\n",
    "#Post-HOC\n",
    "tukey = pairwise_tukeyhsd(endog = ages,\n",
    "                        groups = lotmlabel,\n",
    "                         alpha = 0.05)\n",
    "\n",
    "tukey.plot_simultaneous()    # Plot group confidence intervals\n",
    "plt.vlines(x=60,ymin=-0.5,ymax=4.5, color=\"red\")\n",
    "plt\n",
    "\n",
    "tukey.summary()"
   ]
  },
  {
   "cell_type": "code",
   "execution_count": null,
   "metadata": {},
   "outputs": [],
   "source": []
  }
 ],
 "metadata": {
  "kernelspec": {
   "display_name": "Python 3",
   "language": "python",
   "name": "python3"
  },
  "language_info": {
   "codemirror_mode": {
    "name": "ipython",
    "version": 3
   },
   "file_extension": ".py",
   "mimetype": "text/x-python",
   "name": "python",
   "nbconvert_exporter": "python",
   "pygments_lexer": "ipython3",
   "version": "3.8.5"
  }
 },
 "nbformat": 4,
 "nbformat_minor": 4
}
