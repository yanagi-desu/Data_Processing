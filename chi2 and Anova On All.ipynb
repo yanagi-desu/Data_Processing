{
 "cells": [
  {
   "cell_type": "code",
   "execution_count": 3,
   "metadata": {},
   "outputs": [],
   "source": [
    "from scipy import stats as st\n",
    "from scipy.stats import chisquare\n",
    "import pandas as pd\n",
    "import numpy as np\n",
    "import matplotlib.pyplot as plt\n",
    "from statsmodels.stats.multicomp import pairwise_tukeyhsd\n",
    "import plotly.figure_factory as ff"
   ]
  },
  {
   "cell_type": "code",
   "execution_count": 4,
   "metadata": {},
   "outputs": [
    {
     "data": {
      "text/html": [
       "<div>\n",
       "<style scoped>\n",
       "    .dataframe tbody tr th:only-of-type {\n",
       "        vertical-align: middle;\n",
       "    }\n",
       "\n",
       "    .dataframe tbody tr th {\n",
       "        vertical-align: top;\n",
       "    }\n",
       "\n",
       "    .dataframe thead th {\n",
       "        text-align: right;\n",
       "    }\n",
       "</style>\n",
       "<table border=\"1\" class=\"dataframe\">\n",
       "  <thead>\n",
       "    <tr style=\"text-align: right;\">\n",
       "      <th>Grocery_Budget_Strictness</th>\n",
       "      <th>1</th>\n",
       "      <th>2</th>\n",
       "      <th>3</th>\n",
       "      <th>4</th>\n",
       "      <th>5</th>\n",
       "      <th>6</th>\n",
       "    </tr>\n",
       "    <tr>\n",
       "      <th>LOTM</th>\n",
       "      <th></th>\n",
       "      <th></th>\n",
       "      <th></th>\n",
       "      <th></th>\n",
       "      <th></th>\n",
       "      <th></th>\n",
       "    </tr>\n",
       "  </thead>\n",
       "  <tbody>\n",
       "    <tr>\n",
       "      <th>1</th>\n",
       "      <td>17</td>\n",
       "      <td>71</td>\n",
       "      <td>71</td>\n",
       "      <td>84</td>\n",
       "      <td>25</td>\n",
       "      <td>206</td>\n",
       "    </tr>\n",
       "    <tr>\n",
       "      <th>2</th>\n",
       "      <td>11</td>\n",
       "      <td>105</td>\n",
       "      <td>79</td>\n",
       "      <td>115</td>\n",
       "      <td>20</td>\n",
       "      <td>108</td>\n",
       "    </tr>\n",
       "    <tr>\n",
       "      <th>3</th>\n",
       "      <td>12</td>\n",
       "      <td>64</td>\n",
       "      <td>84</td>\n",
       "      <td>67</td>\n",
       "      <td>10</td>\n",
       "      <td>88</td>\n",
       "    </tr>\n",
       "    <tr>\n",
       "      <th>4</th>\n",
       "      <td>17</td>\n",
       "      <td>87</td>\n",
       "      <td>42</td>\n",
       "      <td>85</td>\n",
       "      <td>17</td>\n",
       "      <td>62</td>\n",
       "    </tr>\n",
       "    <tr>\n",
       "      <th>5</th>\n",
       "      <td>5</td>\n",
       "      <td>16</td>\n",
       "      <td>12</td>\n",
       "      <td>13</td>\n",
       "      <td>1</td>\n",
       "      <td>6</td>\n",
       "    </tr>\n",
       "  </tbody>\n",
       "</table>\n",
       "</div>"
      ],
      "text/plain": [
       "Grocery_Budget_Strictness   1    2   3    4   5    6\n",
       "LOTM                                                \n",
       "1                          17   71  71   84  25  206\n",
       "2                          11  105  79  115  20  108\n",
       "3                          12   64  84   67  10   88\n",
       "4                          17   87  42   85  17   62\n",
       "5                           5   16  12   13   1    6"
      ]
     },
     "execution_count": 4,
     "metadata": {},
     "output_type": "execute_result"
    }
   ],
   "source": [
    "survey_raw = pd.read_csv(\"Raw_survey_data.csv\")\n",
    "survey_raw[\"dummy\"] = [1]*1600\n",
    "survey_raw = survey_raw.rename(columns = {'q4':'LOIF','q5':'LOTM','q8':'LOIT','q17':'House_Status','q18':'Household_Status','q19':'Grocery_Budget_Strictness'},errors=\"raise\")\n",
    "cNames = list(survey_raw.columns.values)\n",
    "checkList = ['Prefecture_code','TypeOfRes','Sex','Age','Age_Catagory','Sex_Era','Married','Profession','House_Status','Household_Status','Grocery_Budget_Strictness']\n",
    "cur_pivot = survey_raw.pivot_table(\"dummy\",index = \"LOTM\",columns = 'Grocery_Budget_Strictness',aggfunc = sum)\n",
    "cur_pivot = cur_pivot.fillna(0)\n",
    "cur_pivot\n",
    "\n"
   ]
  },
  {
   "cell_type": "code",
   "execution_count": 5,
   "metadata": {},
   "outputs": [],
   "source": [
    "#---------------------------------------------------------------------------------------#\n",
    "#Init variable to hold all Chi2 Data for final merge                                    #  \n",
    "#---------------------------------------------------------------------------------------#\n",
    "allSigP = []\n",
    "allSigAttr = []\n"
   ]
  },
  {
   "cell_type": "code",
   "execution_count": 6,
   "metadata": {},
   "outputs": [],
   "source": [
    "#--------------------------------------------------------------------#\n",
    "#LOIM Chi2 on All catagory freq                                      #  \n",
    "#--------------------------------------------------------------------#\n",
    "sigP = []\n",
    "sigAttr = []\n",
    "expected = []\n",
    "dof = []\n",
    "for column in checkList:\n",
    "    cur_pivot = survey_raw.pivot_table(\"dummy\",index = \"LOTM\",columns =  column,aggfunc = sum)\n",
    "    cur_pivot = cur_pivot.fillna(0)\n",
    "    chi2,p,dof_,expected_ = st.chi2_contingency(cur_pivot)\n",
    "#     if p<0.05:\n",
    "    allSigAttr.append(column)\n",
    "    sigP.append(p)\n",
    "    expected.append(expected_)\n",
    "    dof.append(dof_)\n",
    "    \n",
    "allSigP.append(sigP)\n",
    "\n",
    "# ColumnsOfInterest = {'Attribute':sigAttr,'P-Value':sigP,'Dof':dof}\n",
    "# ColumnsOfInterestD = pd.DataFrame(data=ColumnsOfInterest)\n",
    "# ColumnsOfInterestD = ColumnsOfInterestD.style.applymap(color_sig_red)\n",
    "# ColumnsOfInterestD"
   ]
  },
  {
   "cell_type": "code",
   "execution_count": 7,
   "metadata": {},
   "outputs": [],
   "source": [
    "#--------------------------------------------------------------------#\n",
    "#LOIT Chi2 on All catagory freq                                      #  \n",
    "#--------------------------------------------------------------------#\n",
    "sigP = []\n",
    "sigAttr = []\n",
    "expected = []\n",
    "dof = []\n",
    "for column in checkList:\n",
    "    cur_pivot = survey_raw.pivot_table(\"dummy\",index = \"LOIT\",columns =  column,aggfunc = sum)\n",
    "    cur_pivot = cur_pivot.fillna(0)\n",
    "    chi2,p,dof_,expected_ = st.chi2_contingency(cur_pivot)\n",
    "#     if p<0.05:\n",
    "#     sigAttr.append(column)\n",
    "    sigP.append(p)\n",
    "    expected.append(expected_)\n",
    "    dof.append(dof_)\n",
    "    \n",
    "allSigP.append(sigP)\n",
    "# ColumnsOfInterest = {'Attribute':sigAttr,'P-Value':sigP,'Dof':dof}\n",
    "# ColumnsOfInterestD = pd.DataFrame(data=ColumnsOfInterest)\n",
    "# ColumnsOfInterestD = ColumnsOfInterestD.style.applymap(color_sig_red)\n",
    "# ColumnsOfInterestD"
   ]
  },
  {
   "cell_type": "code",
   "execution_count": 8,
   "metadata": {},
   "outputs": [
    {
     "name": "stdout",
     "output_type": "stream",
     "text": [
      "[0.21193449505630532, 1.0, 0.08645187767185347, 0.0003156948060190063, 4.410849562444919e-05, 4.631839523259801e-05, 0.7119458238288405, 0.021156581955447368, 0.7610940698861538, 0.5089697190547111, 7.984395533552126e-17]\n"
     ]
    }
   ],
   "source": [
    "#--------------------------------------------------------------------#\n",
    "#LOIT Chi2 on All catagory freq             TO BE USED IN PAPER                         #  \n",
    "#--------------------------------------------------------------------#\n",
    "sigP = []\n",
    "sigAttr = []\n",
    "expected = []\n",
    "dof = []\n",
    "for column in checkList:\n",
    "    cur_pivot = survey_raw.pivot_table(\"dummy\",index = \"LOIT\",columns =  column,aggfunc = sum)\n",
    "    cur_pivot = cur_pivot.fillna(0)\n",
    "    chi2,p,dof_,expected_ = st.chi2_contingency(cur_pivot)\n",
    "#     if p<0.05:\n",
    "    sigAttr.append(column)\n",
    "    sigP.append(p)\n",
    "    expected.append(expected_)\n",
    "    dof.append(dof_)\n",
    "print(sigP)\n",
    "# allSigP.append(sigP)\n",
    "# ColumnsOfInterest = {'Attribute':sigAttr,'P-Value':sigP,'Dof':dof}\n",
    "# ColumnsOfInterestD = pd.DataFrame(data=ColumnsOfInterest)\n",
    "# ColumnsOfInterestD = ColumnsOfInterestD.style.applymap(color_sig_red)\n",
    "# ColumnsOfInterestD"
   ]
  },
  {
   "cell_type": "code",
   "execution_count": 9,
   "metadata": {},
   "outputs": [
    {
     "name": "stdout",
     "output_type": "stream",
     "text": [
      "[0.2006193335477526, 1.0, 0.34643618198090753, 0.031537138415041396, 0.002818423520104516, 0.009914045833213429, 0.8661910461770062, 0.03254417196748648, 0.6725635959069769, 0.7498666040416542, 1.163895254353338e-14]\n"
     ]
    }
   ],
   "source": [
    "#--------------------------------------------------------------------#\n",
    "#LOIM Chi2 on All catagory freq       To be USED IN PAPER                               #  \n",
    "#--------------------------------------------------------------------#\n",
    "sigP = []\n",
    "sigAttr = []\n",
    "expected = []\n",
    "dof = []\n",
    "for column in checkList:\n",
    "    cur_pivot = survey_raw.pivot_table(\"dummy\",index = \"LOTM\",columns =  column,aggfunc = sum)\n",
    "    cur_pivot = cur_pivot.fillna(0)\n",
    "    chi2,p,dof_,expected_ = st.chi2_contingency(cur_pivot)\n",
    "#     if p<0.05:\n",
    "    sigAttr.append(column)\n",
    "    sigP.append(p)\n",
    "    expected.append(expected_)\n",
    "    dof.append(dof_)\n",
    "\n",
    "print(sigP)\n",
    "# allSigP.append(sigP)\n",
    "# ColumnsOfInterest = {'Attribute':sigAttr,'P-Value':sigP,'Dof':dof}\n",
    "# ColumnsOfInterestD = pd.DataFrame(data=ColumnsOfInterest)\n",
    "# ColumnsOfInterestD = ColumnsOfInterestD.style.applymap(color_sig_red)\n",
    "# ColumnsOfInterestD"
   ]
  },
  {
   "cell_type": "code",
   "execution_count": 10,
   "metadata": {},
   "outputs": [
    {
     "name": "stdout",
     "output_type": "stream",
     "text": [
      "[0.048014712726616296, 1.0, 0.027835704873076867, 0.9270068505615348, 0.2079777714026188, 0.13412322293867188, 0.208685296558332, 0.06057826549200538, 0.0509714607293027, 0.09006797535179788, 2.231669477150967e-07]\n"
     ]
    }
   ],
   "source": [
    "#--------------------------------------------------------------------#\n",
    "#LOIF Chi2 on All catagory freq       To be USED IN PAPER                               #  \n",
    "#--------------------------------------------------------------------#\n",
    "sigP = []\n",
    "sigAttr = []\n",
    "expected = []\n",
    "dof = []\n",
    "for column in checkList:\n",
    "    cur_pivot = survey_raw.pivot_table(\"dummy\",index = \"LOIF\",columns =  column,aggfunc = sum)\n",
    "    cur_pivot = cur_pivot.fillna(0)\n",
    "    chi2,p,dof_,expected_ = st.chi2_contingency(cur_pivot)\n",
    "#     if p<0.05:\n",
    "    sigAttr.append(column)\n",
    "    sigP.append(p)\n",
    "    expected.append(expected_)\n",
    "    dof.append(dof_)\n",
    "\n",
    "print(sigP)\n",
    "# allSigP.append(sigP)\n",
    "# ColumnsOfInterest = {'Attribute':sigAttr,'P-Value':sigP,'Dof':dof}\n",
    "# ColumnsOfInterestD = pd.DataFrame(data=ColumnsOfInterest)\n",
    "# ColumnsOfInterestD = ColumnsOfInterestD.style.applymap(color_sig_red)\n",
    "# ColumnsOfInterestD"
   ]
  },
  {
   "cell_type": "code",
   "execution_count": 11,
   "metadata": {},
   "outputs": [],
   "source": [
    "#-------------------------------------------------------------------------------------------#\n",
    "#LOIF Chi2 on All catagory freq                                       #  \n",
    "#-------------------------------------------------------------------------------------------#\n",
    "\n",
    "# Columns = [\"LOIM\",\"LOIT\",\"LOIF\"]\n",
    "\n",
    "# def color_sig_red(val):\n",
    "#     color = 'red' if (isinstance(val, float) and val < 0.05) else 'black'\n",
    "#     return 'color: %s' % color\n",
    "\n",
    "# ColumnsOfInterest = {'Attribute':Columns,'P-Value':allSigP}\n",
    "# ColumnsOfInterestD = pd.DataFrame(data=allSigP,index = Columns,columns = allSigAttr)\n",
    "# ColumnsOfInterestD = ColumnsOfInterestD.style.applymap(color_sig_red)\n",
    "\n",
    "# fig =  ff.create_table(ColumnsOfInterestD)\n",
    "# fig.update_layout(\n",
    "#     autosize=False,\n",
    "#     width=2200,\n",
    "#     height=200,\n",
    "# )\n",
    "# fig.write_image(\"table_plotly.png\", scale=2)\n",
    "# fig.show()"
   ]
  },
  {
   "cell_type": "code",
   "execution_count": null,
   "metadata": {},
   "outputs": [],
   "source": []
  },
  {
   "cell_type": "code",
   "execution_count": null,
   "metadata": {},
   "outputs": [],
   "source": []
  },
  {
   "cell_type": "code",
   "execution_count": 12,
   "metadata": {},
   "outputs": [
    {
     "name": "stdout",
     "output_type": "stream",
     "text": [
      "F_onewayResult(statistic=3.3484844950560966, pvalue=0.00970172043833915)\n"
     ]
    },
    {
     "name": "stderr",
     "output_type": "stream",
     "text": [
      "/Users/Bofan/opt/anaconda3/lib/python3.8/site-packages/statsmodels/sandbox/stats/multicomp.py:775: UserWarning: FixedFormatter should only be used together with FixedLocator\n",
      "  ax1.set_yticklabels(np.insert(self.groupsunique.astype(str), 0, ''))\n"
     ]
    },
    {
     "data": {
      "text/html": [
       "<table class=\"simpletable\">\n",
       "<caption>Multiple Comparison of Means - Tukey HSD, FWER=0.05</caption>\n",
       "<tr>\n",
       "  <th>group1</th> <th>group2</th> <th>meandiff</th>  <th>p-adj</th>   <th>lower</th>   <th>upper</th>  <th>reject</th>\n",
       "</tr>\n",
       "<tr>\n",
       "     <td>1</td>      <td>2</td>    <td>-0.222</td>    <td>0.9</td>   <td>-2.6625</td> <td>2.2184</td>   <td>False</td>\n",
       "</tr>\n",
       "<tr>\n",
       "     <td>1</td>      <td>3</td>    <td>-0.6657</td>   <td>0.9</td>   <td>-3.1513</td> <td>1.8199</td>   <td>False</td>\n",
       "</tr>\n",
       "<tr>\n",
       "     <td>1</td>      <td>4</td>    <td>-1.1725</td>  <td>0.716</td>  <td>-3.8085</td> <td>1.4634</td>   <td>False</td>\n",
       "</tr>\n",
       "<tr>\n",
       "     <td>1</td>      <td>5</td>    <td>-7.1595</td> <td>0.0039</td> <td>-12.6972</td> <td>-1.6218</td>  <td>True</td> \n",
       "</tr>\n",
       "<tr>\n",
       "     <td>2</td>      <td>3</td>    <td>-0.4437</td>   <td>0.9</td>   <td>-2.9937</td> <td>2.1063</td>   <td>False</td>\n",
       "</tr>\n",
       "<tr>\n",
       "     <td>2</td>      <td>4</td>    <td>-0.9505</td>  <td>0.859</td>  <td>-3.6473</td> <td>1.7463</td>   <td>False</td>\n",
       "</tr>\n",
       "<tr>\n",
       "     <td>2</td>      <td>5</td>    <td>-6.9374</td> <td>0.0061</td> <td>-12.5044</td> <td>-1.3705</td>  <td>True</td> \n",
       "</tr>\n",
       "<tr>\n",
       "     <td>3</td>      <td>4</td>    <td>-0.5068</td>   <td>0.9</td>   <td>-3.2446</td> <td>2.2309</td>   <td>False</td>\n",
       "</tr>\n",
       "<tr>\n",
       "     <td>3</td>      <td>5</td>    <td>-6.4938</td> <td>0.0133</td> <td>-12.0806</td> <td>-0.9069</td>  <td>True</td> \n",
       "</tr>\n",
       "<tr>\n",
       "     <td>4</td>      <td>5</td>    <td>-5.987</td>  <td>0.0318</td> <td>-11.6423</td> <td>-0.3316</td>  <td>True</td> \n",
       "</tr>\n",
       "</table>"
      ],
      "text/plain": [
       "<class 'statsmodels.iolib.table.SimpleTable'>"
      ]
     },
     "execution_count": 12,
     "metadata": {},
     "output_type": "execute_result"
    },
    {
     "data": {
      "image/png": "[encoded data removed]",
      "text/plain": [
       "<Figure size 720x432 with 1 Axes>"
      ]
     },
     "metadata": {
      "needs_background": "light"
     },
     "output_type": "display_data"
    }
   ],
   "source": [
    "#--------------------------------------------------------------------------------#\n",
    "#ANOVA ON Age and LOIT                                                           #  \n",
    "#--------------------------------------------------------------------------------#\n",
    "age_and_loit = survey_raw[{\"LOIT\",\"Age\"}]\n",
    "group_by_age = age_and_loit.groupby(\"LOIT\")\n",
    "groups = []\n",
    "lotmlabel = []\n",
    "ages = []\n",
    "\n",
    "for i in range(1,6):\n",
    "    for each in group_by_age.get_group(i)[\"Age\"]:\n",
    "        ages.append(each)\n",
    "        lotmlabel.append(i)\n",
    "    groups.append(group_by_age.get_group(i)[\"Age\"])\n",
    "\n",
    "print(st.f_oneway(*groups))\n",
    "\n",
    "#Graph\n",
    "# fig, ax = plt.subplots(figsize = (5,8))\n",
    "# ax.bar(labels,Grocery_Budget_Strictness_LOTM_freq.loc[1],width = 0.65,label = \"1\")\n",
    "\n",
    "#Post-HOC\n",
    "\n",
    "tukey = pairwise_tukeyhsd(endog = ages,\n",
    "                        groups = lotmlabel,\n",
    "                         alpha = 0.05)\n",
    "\n",
    "tukey.plot_simultaneous()    # Plot group confidence intervals\n",
    "plt.vlines(x=60,ymin=-0.5,ymax=4.5, color=\"red\")\n",
    "plt\n",
    "\n",
    "tukey.summary()\n",
    "# print(\"1 mean:\"+str(group_by_age.get_group(1)[\"Age\"].mean()))\n",
    "# print(\"4 mean:\"+str(group_by_age.get_group(4)[\"Age\"].mean()))\n"
   ]
  },
  {
   "cell_type": "code",
   "execution_count": 13,
   "metadata": {},
   "outputs": [
    {
     "name": "stdout",
     "output_type": "stream",
     "text": [
      "F_onewayResult(statistic=1.2752895522191952, pvalue=0.27756749003677844)\n"
     ]
    },
    {
     "data": {
      "text/html": [
       "<table class=\"simpletable\">\n",
       "<caption>Multiple Comparison of Means - Tukey HSD, FWER=0.05</caption>\n",
       "<tr>\n",
       "  <th>group1</th> <th>group2</th> <th>meandiff</th>  <th>p-adj</th>  <th>lower</th>   <th>upper</th> <th>reject</th>\n",
       "</tr>\n",
       "<tr>\n",
       "     <td>1</td>      <td>2</td>    <td>1.0671</td>  <td>0.7869</td> <td>-1.607</td>  <td>3.7411</td>  <td>False</td>\n",
       "</tr>\n",
       "<tr>\n",
       "     <td>1</td>      <td>3</td>    <td>-0.6458</td>   <td>0.9</td>  <td>-3.568</td>  <td>2.2765</td>  <td>False</td>\n",
       "</tr>\n",
       "<tr>\n",
       "     <td>1</td>      <td>4</td>     <td>0.288</td>    <td>0.9</td>  <td>-2.2631</td>  <td>2.839</td>  <td>False</td>\n",
       "</tr>\n",
       "<tr>\n",
       "     <td>1</td>      <td>5</td>    <td>2.2083</td>   <td>0.554</td> <td>-1.811</td>  <td>6.2277</td>  <td>False</td>\n",
       "</tr>\n",
       "<tr>\n",
       "     <td>2</td>      <td>3</td>    <td>-1.7128</td> <td>0.4586</td> <td>-4.5251</td> <td>1.0995</td>  <td>False</td>\n",
       "</tr>\n",
       "<tr>\n",
       "     <td>2</td>      <td>4</td>    <td>-0.7791</td>   <td>0.9</td>  <td>-3.2035</td> <td>1.6453</td>  <td>False</td>\n",
       "</tr>\n",
       "<tr>\n",
       "     <td>2</td>      <td>5</td>    <td>1.1413</td>    <td>0.9</td>  <td>-2.7988</td> <td>5.0814</td>  <td>False</td>\n",
       "</tr>\n",
       "<tr>\n",
       "     <td>3</td>      <td>4</td>    <td>0.9337</td>  <td>0.8684</td> <td>-1.7619</td> <td>3.6294</td>  <td>False</td>\n",
       "</tr>\n",
       "<tr>\n",
       "     <td>3</td>      <td>5</td>    <td>2.8541</td>  <td>0.3202</td> <td>-1.2585</td> <td>6.9667</td>  <td>False</td>\n",
       "</tr>\n",
       "<tr>\n",
       "     <td>4</td>      <td>5</td>    <td>1.9204</td>  <td>0.6339</td> <td>-1.9373</td> <td>5.7781</td>  <td>False</td>\n",
       "</tr>\n",
       "</table>"
      ],
      "text/plain": [
       "<class 'statsmodels.iolib.table.SimpleTable'>"
      ]
     },
     "execution_count": 13,
     "metadata": {},
     "output_type": "execute_result"
    },
    {
     "data": {
      "image/png": "[encoded data removed]",
      "text/plain": [
       "<Figure size 720x432 with 1 Axes>"
      ]
     },
     "metadata": {
      "needs_background": "light"
     },
     "output_type": "display_data"
    }
   ],
   "source": [
    "#--------------------------------------------------------------------------------#\n",
    "#ANOVA ON Age and LOIF                                                           #  \n",
    "#--------------------------------------------------------------------------------#\n",
    "age_and_loit = survey_raw[{\"LOIF\",\"Age\"}]\n",
    "group_by_age = age_and_loit.groupby(\"LOIF\")\n",
    "groups = []\n",
    "lotmlabel = []\n",
    "ages = []\n",
    "\n",
    "for i in range(1,6):\n",
    "    for each in group_by_age.get_group(i)[\"Age\"]:\n",
    "        ages.append(each)\n",
    "        lotmlabel.append(i)\n",
    "    groups.append(group_by_age.get_group(i)[\"Age\"])\n",
    "\n",
    "print(st.f_oneway(*groups))\n",
    "\n",
    "#Graph\n",
    "# fig, ax = plt.subplots(figsize = (5,8))\n",
    "# ax.bar(labels,Grocery_Budget_Strictness_LOTM_freq.loc[1],width = 0.65,label = \"1\")\n",
    "\n",
    "#Post-HOC\n",
    "\n",
    "tukey = pairwise_tukeyhsd(endog = ages,\n",
    "                        groups = lotmlabel,\n",
    "                         alpha = 0.05)\n",
    "\n",
    "tukey.plot_simultaneous()    # Plot group confidence intervals\n",
    "plt.vlines(x=49.57,ymin=-0.5,ymax=4.5, color=\"red\")\n",
    "\n",
    "tukey.summary()\n",
    "# print(\"1 mean:\"+str(group_by_age.get_group(1)[\"Age\"].mean()))\n",
    "# print(\"4 mean:\"+str(group_by_age.get_group(4)[\"Age\"].mean()))\n",
    "\n"
   ]
  },
  {
   "cell_type": "code",
   "execution_count": 14,
   "metadata": {},
   "outputs": [],
   "source": [
    "#--------------------------------------------------------------------#\n",
    "#LOIT Chi2 on Age catagory freq                                      #  \n",
    "#--------------------------------------------------------------------#\n",
    "sigP = []\n",
    "sigAttr = []\n",
    "for column in checkList:\n",
    "    cur_pivot = survey_raw.pivot_table(\"dummy\",index = \"LOIT\",columns =  column,aggfunc = sum)\n",
    "    chi2,p,dof,expected = st.chi2_contingency(cur_pivot)\n",
    "    if p<0.05:\n",
    "        sigAttr.append(column)\n",
    "        sigP.append(p)\n",
    "ColumnsOfInterest = {'Attribute':sigAttr,'P-Value':sigP}\n",
    "ColumnsOfInterestD = pd.DataFrame(data=ColumnsOfInterest)\n",
    "# ColumnsOfInterestD"
   ]
  },
  {
   "cell_type": "code",
   "execution_count": 15,
   "metadata": {},
   "outputs": [],
   "source": [
    "#--------------------------------------------------------------------#\n",
    "#LOIF Chi2 on Age catagory freq                                      #  \n",
    "#--------------------------------------------------------------------#\n",
    "sigP = []\n",
    "sigAttr = []\n",
    "for column in checkList:\n",
    "    cur_pivot = survey_raw.pivot_table(\"dummy\",index = \"LOIF\",columns =  column,aggfunc = sum)\n",
    "    chi2,p,dof,expected = st.chi2_contingency(cur_pivot)\n",
    "    if p<0.05:\n",
    "        sigAttr.append(column)\n",
    "        sigP.append(p)\n",
    "ColumnsOfInterest = {'Attribute':sigAttr,'P-Value':sigP}\n",
    "ColumnsOfInterestD = pd.DataFrame(data=ColumnsOfInterest)\n",
    "# ColumnsOfInterestD"
   ]
  },
  {
   "cell_type": "code",
   "execution_count": 16,
   "metadata": {},
   "outputs": [],
   "source": [
    "#---------------------------------------------------------------------#\n",
    "#LOIM :Process the Age_Catagory                                       #  \n",
    "#---------------------------------------------------------------------#\n",
    "#Test Anova on frequency \n",
    "#Test Anova on ratio\n",
    "#Perform linear regression \n"
   ]
  },
  {
   "cell_type": "code",
   "execution_count": 17,
   "metadata": {},
   "outputs": [
    {
     "name": "stdout",
     "output_type": "stream",
     "text": [
      "[LOTM\n",
      "1    57\n",
      "2    76\n",
      "3    53\n",
      "4    75\n",
      "5    14\n",
      "Name: 2, dtype: int64, LOTM\n",
      "1    107\n",
      "2     80\n",
      "3     58\n",
      "4     52\n",
      "5     13\n",
      "Name: 3, dtype: int64, LOTM\n",
      "1    112\n",
      "2    104\n",
      "3     84\n",
      "4     85\n",
      "5     11\n",
      "Name: 4, dtype: int64, LOTM\n",
      "1    109\n",
      "2     99\n",
      "3     75\n",
      "4     45\n",
      "5      8\n",
      "Name: 5, dtype: int64, LOTM\n",
      "1    89\n",
      "2    79\n",
      "3    55\n",
      "4    53\n",
      "5     7\n",
      "Name: 6, dtype: int64]\n",
      "F_onewayResult(statistic=0.38662597204409305, pvalue=0.8156281611429794)\n"
     ]
    }
   ],
   "source": [
    "#----------------------------------------------------------------------#\n",
    "#LOIM : Anova on Age catagory freq                                     #  \n",
    "#----------------------------------------------------------------------#\n",
    "Age_Catagory_LOTM = survey_raw.pivot_table(\"dummy\",index = \"LOTM\",columns = \"Age_Catagory\" ,aggfunc = sum)\n",
    "\n",
    "#Catagory total \n",
    "Age_Catagory_LOTM_total = survey_raw.groupby(\"Age_Catagory\").count()\n",
    "Age_Catagory_LOTM_total = Age_Catagory_LOTM_total[\"dummy\"]\n",
    "# print(Age_Catagory_LOTM_total)\n",
    "\n",
    "#Category frequency\n",
    "Age_Catagory_LOTM_freq = Age_Catagory_LOTM/Age_Catagory_LOTM_total\n",
    "# print(Age_Catagory_LOTM_freq.loc[1])\n",
    "\n",
    "#Standard Deviation\n",
    "age_category_std = np.std(Age_Catagory_LOTM_freq)\n",
    "# print(age_category_std)\n",
    "\n",
    "# ANOVA  #\n",
    "allTypes = []\n",
    "range_ = [i for i in range(2,7)]\n",
    "for i in range_:\n",
    "    allTypes.append(Age_Catagory_LOTM[i])\n",
    "print(allTypes)\n",
    "print(st.f_oneway(*allTypes)) \n",
    "\n",
    "#------Graph------# \n",
    "labels = [\"2\",\"3\",\"4\",\"5\",\"6\"]\n",
    "# fig, ax = plt.subplots(figsize = (10,12))\n",
    "# ax.bar(labels,Age_Catagory_LOTM_freq.loc[1],width = 0.65,label = \"1\")\n",
    "# pre = 0\n",
    "# for i in range(2,6): \n",
    "#     pre = pre+Age_Catagory_LOTM_freq.loc[i-1]\n",
    "#     ax.bar(labels,Age_Catagory_LOTM_freq.loc[i],width = 0.65,bottom=pre,label = str(i))\n",
    "# ax.set_ylabel(\"LOIM Percentage\")\n",
    "# ax.set_title(\"Distribution of LOIM in different Age_Catagory\")\n",
    "# ax.legend()\n",
    "# plt.show()"
   ]
  },
  {
   "cell_type": "code",
   "execution_count": 18,
   "metadata": {},
   "outputs": [
    {
     "name": "stdout",
     "output_type": "stream",
     "text": [
      "Age_Catagory\n",
      "2    275\n",
      "3    310\n",
      "4    396\n",
      "5    336\n",
      "6    283\n",
      "Name: dummy, dtype: int64\n",
      "[0.2, 0.2, 0.2, 0.2, 0.2]\n"
     ]
    },
    {
     "ename": "ValueError",
     "evalue": "zero-dimensional arrays cannot be concatenated",
     "output_type": "error",
     "traceback": [
      "\u001b[0;31m---------------------------------------------------------------------------\u001b[0m",
      "\u001b[0;31mValueError\u001b[0m                                Traceback (most recent call last)",
      "\u001b[0;32m<ipython-input-18-a81f8dfcbd8a>\u001b[0m in \u001b[0;36m<module>\u001b[0;34m\u001b[0m\n\u001b[1;32m     11\u001b[0m     \u001b[0mallTypes\u001b[0m\u001b[0;34m.\u001b[0m\u001b[0mappend\u001b[0m\u001b[0;34m(\u001b[0m\u001b[0mAge_Catagory_LOTM_Freq\u001b[0m\u001b[0;34m[\u001b[0m\u001b[0mi\u001b[0m\u001b[0;34m]\u001b[0m\u001b[0;34m.\u001b[0m\u001b[0mmean\u001b[0m\u001b[0;34m(\u001b[0m\u001b[0;34m)\u001b[0m\u001b[0;34m)\u001b[0m\u001b[0;34m\u001b[0m\u001b[0;34m\u001b[0m\u001b[0m\n\u001b[1;32m     12\u001b[0m \u001b[0mprint\u001b[0m\u001b[0;34m(\u001b[0m\u001b[0mallTypes\u001b[0m\u001b[0;34m)\u001b[0m\u001b[0;34m\u001b[0m\u001b[0;34m\u001b[0m\u001b[0m\n\u001b[0;32m---> 13\u001b[0;31m \u001b[0mst\u001b[0m\u001b[0;34m.\u001b[0m\u001b[0mf_oneway\u001b[0m\u001b[0;34m(\u001b[0m\u001b[0;34m*\u001b[0m\u001b[0mallTypes\u001b[0m\u001b[0;34m)\u001b[0m\u001b[0;34m\u001b[0m\u001b[0;34m\u001b[0m\u001b[0m\n\u001b[0m",
      "\u001b[0;32m~/opt/anaconda3/lib/python3.8/site-packages/scipy/stats/stats.py\u001b[0m in \u001b[0;36mf_oneway\u001b[0;34m(axis, *args)\u001b[0m\n\u001b[1;32m   3604\u001b[0m     \u001b[0;31m# if the dimensions of all the arrays, except the axis dimension, are not\u001b[0m\u001b[0;34m\u001b[0m\u001b[0;34m\u001b[0m\u001b[0;34m\u001b[0m\u001b[0m\n\u001b[1;32m   3605\u001b[0m     \u001b[0;31m# the same.\u001b[0m\u001b[0;34m\u001b[0m\u001b[0;34m\u001b[0m\u001b[0;34m\u001b[0m\u001b[0m\n\u001b[0;32m-> 3606\u001b[0;31m     \u001b[0malldata\u001b[0m \u001b[0;34m=\u001b[0m \u001b[0mnp\u001b[0m\u001b[0;34m.\u001b[0m\u001b[0mconcatenate\u001b[0m\u001b[0;34m(\u001b[0m\u001b[0margs\u001b[0m\u001b[0;34m,\u001b[0m \u001b[0maxis\u001b[0m\u001b[0;34m=\u001b[0m\u001b[0maxis\u001b[0m\u001b[0;34m)\u001b[0m\u001b[0;34m\u001b[0m\u001b[0;34m\u001b[0m\u001b[0m\n\u001b[0m\u001b[1;32m   3607\u001b[0m     \u001b[0mbign\u001b[0m \u001b[0;34m=\u001b[0m \u001b[0malldata\u001b[0m\u001b[0;34m.\u001b[0m\u001b[0mshape\u001b[0m\u001b[0;34m[\u001b[0m\u001b[0maxis\u001b[0m\u001b[0;34m]\u001b[0m\u001b[0;34m\u001b[0m\u001b[0;34m\u001b[0m\u001b[0m\n\u001b[1;32m   3608\u001b[0m \u001b[0;34m\u001b[0m\u001b[0m\n",
      "\u001b[0;32m<__array_function__ internals>\u001b[0m in \u001b[0;36mconcatenate\u001b[0;34m(*args, **kwargs)\u001b[0m\n",
      "\u001b[0;31mValueError\u001b[0m: zero-dimensional arrays cannot be concatenated"
     ]
    }
   ],
   "source": [
    "#---------------------------------------------------------------#\n",
    "#Anova on Age catagory probability                              #  \n",
    "#---------------------------------------------------------------#\n",
    "Age_Catagory_total = survey_raw.groupby(\"Age_Catagory\").sum()\n",
    "total = Age_Catagory_total[\"dummy\"]\n",
    "\n",
    "print(total)\n",
    "Age_Catagory_LOTM_Freq = Age_Catagory_LOTM/total\n",
    "allTypes = []\n",
    "for i in range(2,7):\n",
    "    allTypes.append(Age_Catagory_LOTM_Freq[i].mean())\n",
    "print(allTypes)\n",
    "st.f_oneway(*allTypes)\n"
   ]
  },
  {
   "cell_type": "code",
   "execution_count": 20,
   "metadata": {},
   "outputs": [
    {
     "name": "stdout",
     "output_type": "stream",
     "text": [
      "F_onewayResult(statistic=2.9238104124732858, pvalue=0.06582565597159273)\n",
      "P Value: 0.06582565597159273\n"
     ]
    },
    {
     "data": {
      "image/png": "[encoded data removed]",
      "text/plain": [
       "<Figure size 720x864 with 1 Axes>"
      ]
     },
     "metadata": {
      "needs_background": "light"
     },
     "output_type": "display_data"
    }
   ],
   "source": [
    "#------------------------------------------------------------------------#\n",
    "#Anova on Grocery_Budget_Strictness frequenct                            #  \n",
    "#------------------------------------------------------------------------#\n",
    "Grocery_Budget_Strictness_LOTM = survey_raw.pivot_table(\"dummy\",index = \"LOTM\",columns = \"Grocery_Budget_Strictness\" ,aggfunc = sum)\n",
    "\n",
    "#Get total for each strictness level\n",
    "Grocery_Budget_Strictness_total = survey_raw.groupby(\"Grocery_Budget_Strictness\").sum()\n",
    "total = Grocery_Budget_Strictness_total[\"dummy\"]\n",
    "allTypes = []\n",
    "range_ = [i for i in range(1,7)]\n",
    "for i in range_:\n",
    "    if i != 1 and i != 4:\n",
    "        allTypes.append(Grocery_Budget_Strictness_LOTM[i])\n",
    "sta, p = st.f_oneway(*allTypes)\n",
    "print(st.f_oneway(*allTypes))\n",
    "print(\"P Value:\",p)\n",
    "\n",
    "\n",
    "\n",
    "#------Graph------#\n",
    "Grocery_Budget_Strictness_LOTM_freq = Grocery_Budget_Strictness_LOTM/total\n",
    "labels = [\"1\",\"2\",\"3\",\"4\",\"5\",\"6\"]\n",
    "fig, ax = plt.subplots(figsize = (10,12))\n",
    "ax.bar(labels,Grocery_Budget_Strictness_LOTM_freq.loc[1],width = 0.65,label = \"1\")\n",
    "pre = 0\n",
    "for i in range(2,6): \n",
    "    pre = pre+Grocery_Budget_Strictness_LOTM_freq.loc[i-1]\n",
    "    ax.bar(labels,Grocery_Budget_Strictness_LOTM_freq.loc[i],width = 0.65,bottom=pre,label = str(i))\n",
    "ax.set_ylabel(\"LOIM Percentage\")\n",
    "ax.set_title(\"Distribution of LOIM in different Grocery_Budget_Strictness\")\n",
    "ax.legend()\n",
    "plt.show()\n",
    "\n"
   ]
  },
  {
   "cell_type": "code",
   "execution_count": 21,
   "metadata": {},
   "outputs": [
    {
     "name": "stdout",
     "output_type": "stream",
     "text": [
      "F_onewayResult(statistic=12.02224577710737, pvalue=3.698645708553643e-08)\n",
      "F_onewayResult(statistic=7.9235709022002325, pvalue=0.0064032980651977794)\n"
     ]
    },
    {
     "data": {
      "image/png": "[encoded data removed]",
      "text/plain": [
       "<Figure size 720x864 with 1 Axes>"
      ]
     },
     "metadata": {
      "needs_background": "light"
     },
     "output_type": "display_data"
    }
   ],
   "source": [
    "#---------------------------------------------------------------#\n",
    "#Anova on Profession                                            #  \n",
    "#---------------------------------------------------------------#\n",
    "Profession_LOTM = survey_raw.pivot_table(\"dummy\",index = \"LOTM\",columns = \"Profession\" ,aggfunc = sum)\n",
    "\n",
    "#Get total for each strictness level\n",
    "Profession_total = survey_raw.groupby(\"Profession\").sum()\n",
    "total = Profession_total[\"dummy\"]\n",
    "\n",
    "#Perform ANOVA\n",
    "allTypes = []\n",
    "range_ = [i for i in range(1,10) if i!=5]\n",
    "range_.append(99)\n",
    "for i in range_:\n",
    "    allTypes.append(Profession_LOTM[i])\n",
    "# st.f_oneway(*allTypes)\n",
    "sta, p = st.f_oneway(allTypes[6],allTypes[7],allTypes[8])\n",
    "print(st.f_oneway(*allTypes))\n",
    "print(st.f_oneway(allTypes[6],allTypes[7],allTypes[8]))\n",
    "\n",
    "#------Graph------#\n",
    "Profession_LOTM_freq = Profession_LOTM/total\n",
    "Profession_LOTM_freq.loc[1]\n",
    "labels = [\"1\", \"2\", \"3\", \"4\", \"6\", \"7\", \"8\", \"9\", \"99\"]\n",
    "fig, ax = plt.subplots(figsize = (10,12))\n",
    "ax.bar(labels, Profession_LOTM_freq.loc[1],width = 0.65,label = \"1\")\n",
    "pre = 0\n",
    "for i in range(2,6): \n",
    "    pre = pre+Profession_LOTM_freq.loc[i-1] \n",
    "    ax.bar(labels,Profession_LOTM_freq.loc[i],width = 0.65,bottom=pre,label = str(i))\n",
    "ax.set_ylabel(\"LOIM Percentage\")\n",
    "ax.set_title(\"Distribution of LOIM in different Profession_LOTM_freq\")\n",
    "ax.legend()\n",
    "plt.show()"
   ]
  },
  {
   "cell_type": "code",
   "execution_count": 19,
   "metadata": {},
   "outputs": [
    {
     "data": {
      "text/plain": [
       "Profession\n",
       "1     0.278464\n",
       "2     0.394737\n",
       "3     0.266667\n",
       "4     0.363636\n",
       "6     0.175000\n",
       "7     0.266376\n",
       "8     0.297959\n",
       "9     0.417910\n",
       "99    0.190476\n",
       "Name: 1, dtype: float64"
      ]
     },
     "execution_count": 19,
     "metadata": {},
     "output_type": "execute_result"
    }
   ],
   "source": [
    "#---------------------------------------------------------------#\n",
    "#Anova on Profession                                            #  \n",
    "#---------------------------------------------------------------#\n",
    "Profession_LOTM = survey_raw.pivot_table(\"dummy\",index = \"LOTM\",columns = \"Profession\" ,aggfunc = sum)\n",
    "\n",
    "#Get total for each strictness level\n",
    "Profession_total = survey_raw.groupby(\"Profession\").sum()\n",
    "total = Profession_total[\"dummy\"]\n",
    "\n",
    "#Perform ANOVA\n",
    "allTypes = []\n",
    "range_ = [i for i in range(1,10) if i!=5]\n",
    "range_.append(99)\n",
    "for i in range_:\n",
    "    allTypes.append(Profession_LOTM[i])\n",
    "# st.f_oneway(*allTypes)\n",
    "sta, p = st.f_oneway(allTypes[6],allTypes[7],allTypes[8])\n",
    "# print(st.f_oneway(*allTypes))\n",
    "# print(st.f_oneway(allTypes[6],allTypes[7],allTypes[8]))\n",
    "Profession_LOTM_freq.loc[1]\n",
    "#------Graph------#\n",
    "# Profession_LOTM_freq = Profession_LOTM/total\n",
    "# labels = [\"1\", \"2\", \"3\", \"4\", \"6\", \"7\", \"8\", \"9\", \"99\"]\n",
    "# fig, ax = plt.subplots(figsize = (10,12))\n",
    "# ax.bar(labels, Profession_LOTM_freq.loc[1],width = 0.65,label = \"1\")\n",
    "# pre = 0\n",
    "# for i in range(2,6): \n",
    "#     pre = pre+Profession_LOTM_freq.loc[i-1] \n",
    "#     ax.bar(labels,Profession_LOTM_freq.loc[i],width = 0.65,bottom=pre,label = str(i))\n",
    "# ax.set_ylabel(\"LOIM Percentage\")\n",
    "# ax.set_title(\"Distribution of LOIM in different Profession_LOTM_freq\")\n",
    "# ax.legend()\n",
    "# plt.show()"
   ]
  },
  {
   "cell_type": "code",
   "execution_count": 23,
   "metadata": {},
   "outputs": [
    {
     "name": "stdout",
     "output_type": "stream",
     "text": [
      "[nan, nan, nan, nan, nan]\n"
     ]
    },
    {
     "ename": "ValueError",
     "evalue": "zero-dimensional arrays cannot be concatenated",
     "output_type": "error",
     "traceback": [
      "\u001b[0;31m---------------------------------------------------------------------------\u001b[0m",
      "\u001b[0;31mValueError\u001b[0m                                Traceback (most recent call last)",
      "\u001b[0;32m<ipython-input-23-2f1d8dbb359d>\u001b[0m in \u001b[0;36m<module>\u001b[0;34m\u001b[0m\n\u001b[1;32m     10\u001b[0m     \u001b[0mallTypes\u001b[0m\u001b[0;34m.\u001b[0m\u001b[0mappend\u001b[0m\u001b[0;34m(\u001b[0m\u001b[0mAge_Catagory_LOTM_Freq\u001b[0m\u001b[0;34m[\u001b[0m\u001b[0mi\u001b[0m\u001b[0;34m]\u001b[0m\u001b[0;34m.\u001b[0m\u001b[0mmean\u001b[0m\u001b[0;34m(\u001b[0m\u001b[0;34m)\u001b[0m\u001b[0;34m)\u001b[0m\u001b[0;34m\u001b[0m\u001b[0;34m\u001b[0m\u001b[0m\n\u001b[1;32m     11\u001b[0m \u001b[0mprint\u001b[0m\u001b[0;34m(\u001b[0m\u001b[0mallTypes\u001b[0m\u001b[0;34m)\u001b[0m\u001b[0;34m\u001b[0m\u001b[0;34m\u001b[0m\u001b[0m\n\u001b[0;32m---> 12\u001b[0;31m \u001b[0mst\u001b[0m\u001b[0;34m.\u001b[0m\u001b[0mf_oneway\u001b[0m\u001b[0;34m(\u001b[0m\u001b[0;34m*\u001b[0m\u001b[0mallTypes\u001b[0m\u001b[0;34m)\u001b[0m\u001b[0;34m\u001b[0m\u001b[0;34m\u001b[0m\u001b[0m\n\u001b[0m",
      "\u001b[0;32m~/opt/anaconda3/lib/python3.8/site-packages/scipy/stats/stats.py\u001b[0m in \u001b[0;36mf_oneway\u001b[0;34m(axis, *args)\u001b[0m\n\u001b[1;32m   3604\u001b[0m     \u001b[0;31m# if the dimensions of all the arrays, except the axis dimension, are not\u001b[0m\u001b[0;34m\u001b[0m\u001b[0;34m\u001b[0m\u001b[0;34m\u001b[0m\u001b[0m\n\u001b[1;32m   3605\u001b[0m     \u001b[0;31m# the same.\u001b[0m\u001b[0;34m\u001b[0m\u001b[0;34m\u001b[0m\u001b[0;34m\u001b[0m\u001b[0m\n\u001b[0;32m-> 3606\u001b[0;31m     \u001b[0malldata\u001b[0m \u001b[0;34m=\u001b[0m \u001b[0mnp\u001b[0m\u001b[0;34m.\u001b[0m\u001b[0mconcatenate\u001b[0m\u001b[0;34m(\u001b[0m\u001b[0margs\u001b[0m\u001b[0;34m,\u001b[0m \u001b[0maxis\u001b[0m\u001b[0;34m=\u001b[0m\u001b[0maxis\u001b[0m\u001b[0;34m)\u001b[0m\u001b[0;34m\u001b[0m\u001b[0;34m\u001b[0m\u001b[0m\n\u001b[0m\u001b[1;32m   3607\u001b[0m     \u001b[0mbign\u001b[0m \u001b[0;34m=\u001b[0m \u001b[0malldata\u001b[0m\u001b[0;34m.\u001b[0m\u001b[0mshape\u001b[0m\u001b[0;34m[\u001b[0m\u001b[0maxis\u001b[0m\u001b[0;34m]\u001b[0m\u001b[0;34m\u001b[0m\u001b[0;34m\u001b[0m\u001b[0m\n\u001b[1;32m   3608\u001b[0m \u001b[0;34m\u001b[0m\u001b[0m\n",
      "\u001b[0;32m<__array_function__ internals>\u001b[0m in \u001b[0;36mconcatenate\u001b[0;34m(*args, **kwargs)\u001b[0m\n",
      "\u001b[0;31mValueError\u001b[0m: zero-dimensional arrays cannot be concatenated"
     ]
    }
   ],
   "source": [
    "#---------------------------------------------------------------#\n",
    "#Anova on Age                                                   #  \n",
    "#---------------------------------------------------------------#\n",
    "Age_Catagory_total = survey_raw.groupby(\"Age\").sum()\n",
    "total = Age_Catagory_total[\"dummy\"]\n",
    "\n",
    "Age_Catagory_LOTM_Freq = Age_Catagory_LOTM/total\n",
    "allTypes = []\n",
    "for i in range(2,7):\n",
    "    allTypes.append(Age_Catagory_LOTM_Freq[i].mean())\n",
    "# print(allTypes)\n",
    "# st.f_oneway(*allTypes)\n"
   ]
  },
  {
   "cell_type": "code",
   "execution_count": null,
   "metadata": {},
   "outputs": [],
   "source": []
  },
  {
   "cell_type": "code",
   "execution_count": null,
   "metadata": {},
   "outputs": [],
   "source": []
  }
 ],
 "metadata": {
  "kernelspec": {
   "display_name": "Python 3",
   "language": "python",
   "name": "python3"
  },
  "language_info": {
   "codemirror_mode": {
    "name": "ipython",
    "version": 3
   },
   "file_extension": ".py",
   "mimetype": "text/x-python",
   "name": "python",
   "nbconvert_exporter": "python",
   "pygments_lexer": "ipython3",
   "version": "3.8.5"
  }
 },
 "nbformat": 4,
 "nbformat_minor": 4
}
