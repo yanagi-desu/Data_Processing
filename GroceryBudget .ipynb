{
 "cells": [
  {
   "cell_type": "code",
   "execution_count": 1,
   "metadata": {},
   "outputs": [],
   "source": [
    "from scipy import stats as st\n",
    "from scipy.stats import chisquare\n",
    "import pandas as pd\n",
    "import numpy as np\n",
    "import matplotlib.pyplot as plt\n",
    "from statsmodels.stats.multicomp import pairwise_tukeyhsd\n",
    "import plotly.figure_factory as ff\n",
    "from scipy.stats import shapiro"
   ]
  },
  {
   "cell_type": "code",
   "execution_count": 2,
   "metadata": {},
   "outputs": [],
   "source": [
    "survey_raw = pd.read_csv(\"Raw_survey_data.csv\")\n",
    "survey_raw[\"dummy\"] = [1]*1600\n",
    "survey_raw = survey_raw.rename(columns = {'q4':'LOIF','q5':'LOIM','q8':'LOIT','q17':'House_Status','q18':'Household_Status','q19':'Grocery_Budget_Strictness'},errors=\"raise\")\n"
   ]
  },
  {
   "cell_type": "code",
   "execution_count": 3,
   "metadata": {},
   "outputs": [
    {
     "name": "stdout",
     "output_type": "stream",
     "text": [
      "Grocery_Budget_Strictness\n",
      "1     62\n",
      "2    343\n",
      "3    288\n",
      "4    364\n",
      "5     73\n",
      "6    470\n",
      "Name: dummy, dtype: int64\n",
      "Statistics=0.892, p=0.327\n"
     ]
    },
    {
     "data": {
      "text/plain": [
       "Text(0.5, 1.0, 'Population distrubtion of Grocery Budget Strictness')"
      ]
     },
     "execution_count": 3,
     "metadata": {},
     "output_type": "execute_result"
    },
    {
     "data": {
      "image/png": "[encoded data removed]",
      "text/plain": [
       "<Figure size 432x288 with 1 Axes>"
      ]
     },
     "metadata": {
      "needs_background": "light"
     },
     "output_type": "display_data"
    }
   ],
   "source": [
    "#--------------------------------------------------------------------------------#\n",
    "#Before Running Anova, Test for normality                                                           #  \n",
    "#--------------------------------------------------------------------------------#\n",
    "data = survey_raw.groupby(\"Grocery_Budget_Strictness\").count()\n",
    "data = data[\"dummy\"]\n",
    "print(data)\n",
    "stat, p = shapiro(data)\n",
    "print('Statistics=%.3f, p=%.3f' % (stat, p))\n",
    "data.plot(kind = \"bar\")\n",
    "plt.title(\"Population distrubtion of Grocery Budget Strictness\")\n",
    "\n",
    "# data = survey_raw.groupby(\"LOIF\").count()\n",
    "# data = data[\"dummy\"]\n",
    "# stat, p = shapiro(data)\n",
    "# print('Statistics=%.3f, p=%.3f' % (stat, p))\n",
    "# data.plot(kind = \"bar\")\n",
    "# plt.title(\"Population distrubtion of Grocery Budget Strictness\")\n",
    "\n",
    "# data = survey_raw.groupby([\"LOIF\",\"Grocery_Budget_Strictness\"]).count()\n",
    "# data = data[\"dummy\"]\n",
    "# stat, p = shapiro(data)\n",
    "# print('Statistics=%.3f, p=%.3f' % (stat, p))\n",
    "# data.plot(kind = \"bar\")\n",
    "# plt.title(\"Population distrubtion of Grocery Budget Strictness\")"
   ]
  },
  {
   "cell_type": "code",
   "execution_count": 4,
   "metadata": {},
   "outputs": [
    {
     "name": "stdout",
     "output_type": "stream",
     "text": [
      "F_onewayResult(statistic=5.593444518114278, pvalue=0.008085039907323954)\n",
      "P Value: 0.008085039907323954\n"
     ]
    },
    {
     "data": {
      "text/html": [
       "<table class=\"simpletable\">\n",
       "<caption>Multiple Comparison of Means - Tukey HSD, FWER=0.05</caption>\n",
       "<tr>\n",
       "  <th>group1</th> <th>group2</th> <th>meandiff</th>  <th>p-adj</th>  <th>lower</th>   <th>upper</th>  <th>reject</th>\n",
       "</tr>\n",
       "<tr>\n",
       "     <td>1</td>      <td>2</td>    <td>-0.2285</td> <td>0.7452</td> <td>-0.7216</td> <td>0.2646</td>   <td>False</td>\n",
       "</tr>\n",
       "<tr>\n",
       "     <td>1</td>      <td>3</td>    <td>-0.3602</td> <td>0.3121</td> <td>-0.8605</td> <td>0.1401</td>   <td>False</td>\n",
       "</tr>\n",
       "<tr>\n",
       "     <td>1</td>      <td>4</td>    <td>-0.3694</td> <td>0.2638</td> <td>-0.8603</td> <td>0.1216</td>   <td>False</td>\n",
       "</tr>\n",
       "<tr>\n",
       "     <td>1</td>      <td>5</td>    <td>-0.6045</td> <td>0.0589</td> <td>-1.2216</td> <td>0.0126</td>   <td>False</td>\n",
       "</tr>\n",
       "<tr>\n",
       "     <td>1</td>      <td>6</td>    <td>-0.6467</td> <td>0.0019</td> <td>-1.1295</td> <td>-0.1639</td>  <td>True</td> \n",
       "</tr>\n",
       "<tr>\n",
       "     <td>2</td>      <td>3</td>    <td>-0.1317</td> <td>0.7491</td> <td>-0.4173</td> <td>0.1539</td>   <td>False</td>\n",
       "</tr>\n",
       "<tr>\n",
       "     <td>2</td>      <td>4</td>    <td>-0.1408</td> <td>0.6459</td> <td>-0.4097</td> <td>0.1281</td>   <td>False</td>\n",
       "</tr>\n",
       "<tr>\n",
       "     <td>2</td>      <td>5</td>    <td>-0.376</td>  <td>0.1828</td> <td>-0.8365</td> <td>0.0846</td>   <td>False</td>\n",
       "</tr>\n",
       "<tr>\n",
       "     <td>2</td>      <td>6</td>    <td>-0.4182</td>  <td>0.001</td> <td>-0.672</td>  <td>-0.1645</td>  <td>True</td> \n",
       "</tr>\n",
       "<tr>\n",
       "     <td>3</td>      <td>4</td>    <td>-0.0092</td>   <td>0.9</td>  <td>-0.291</td>  <td>0.2726</td>   <td>False</td>\n",
       "</tr>\n",
       "<tr>\n",
       "     <td>3</td>      <td>5</td>    <td>-0.2443</td> <td>0.6493</td> <td>-0.7125</td> <td>0.2239</td>   <td>False</td>\n",
       "</tr>\n",
       "<tr>\n",
       "     <td>3</td>      <td>6</td>    <td>-0.2865</td> <td>0.0275</td> <td>-0.5539</td> <td>-0.0191</td>  <td>True</td> \n",
       "</tr>\n",
       "<tr>\n",
       "     <td>4</td>      <td>5</td>    <td>-0.2351</td> <td>0.6635</td> <td>-0.6934</td> <td>0.2231</td>   <td>False</td>\n",
       "</tr>\n",
       "<tr>\n",
       "     <td>4</td>      <td>6</td>    <td>-0.2774</td> <td>0.0192</td> <td>-0.5269</td> <td>-0.0279</td>  <td>True</td> \n",
       "</tr>\n",
       "<tr>\n",
       "     <td>5</td>      <td>6</td>    <td>-0.0422</td>   <td>0.9</td>  <td>-0.4918</td> <td>0.4073</td>   <td>False</td>\n",
       "</tr>\n",
       "</table>"
      ],
      "text/plain": [
       "<class 'statsmodels.iolib.table.SimpleTable'>"
      ]
     },
     "execution_count": 4,
     "metadata": {},
     "output_type": "execute_result"
    },
    {
     "data": {
      "image/png": "[encoded data removed]",
      "text/plain": [
       "<Figure size 720x432 with 1 Axes>"
      ]
     },
     "metadata": {
      "needs_background": "light"
     },
     "output_type": "display_data"
    }
   ],
   "source": [
    "#------------------------------------------------------------------------#\n",
    "#Anova on Grocery_Budget_Strictness frequenct                            #  \n",
    "#------------------------------------------------------------------------#\n",
    "Grocery_Budget_Strictness_LOTM = survey_raw.pivot_table(\"dummy\",index = \"LOIF\",columns = \"Grocery_Budget_Strictness\" ,aggfunc = sum)\n",
    "\n",
    "#Get total for each strictness level\n",
    "Grocery_Budget_Strictness_total = survey_raw.groupby(\"Grocery_Budget_Strictness\").sum()\n",
    "group_by_GBS = survey_raw.groupby(\"Grocery_Budget_Strictness\")\n",
    "total = Grocery_Budget_Strictness_total[\"dummy\"]\n",
    "allTypes = []\n",
    "range_ = [i for i in range(1,7)]\n",
    "\n",
    "lotflabel = []\n",
    "gbslabel = []\n",
    "\n",
    "for i in range_:\n",
    "    if i != 1 and i != 4:\n",
    "        allTypes.append(Grocery_Budget_Strictness_LOTM[i])\n",
    "sta, p = st.f_oneway(*allTypes)\n",
    "print(st.f_oneway(*allTypes))\n",
    "print(\"P Value:\",p)\n",
    "\n",
    "for i in range(1,7):\n",
    "    for each in group_by_GBS.get_group(i)[\"LOIF\"]:\n",
    "        lotflabel.append(each)\n",
    "        gbslabel.append(i)\n",
    "\n",
    "#Post-HOC\n",
    "tukey = pairwise_tukeyhsd(endog = lotflabel,\n",
    "                        groups = gbslabel,\n",
    "                         alpha = 0.05)\n",
    "\n",
    "tukey.plot_simultaneous()    # Plot group confidence intervals\n",
    "plt.vlines(x=60,ymin=-0.5,ymax=4.5, color=\"red\")\n",
    "plt\n",
    "\n",
    "tukey.summary()\n",
    "\n",
    "\n",
    "#------Graph------#\n",
    "# Grocery_Budget_Strictness_LOTM_freq = Grocery_Budget_Strictness_LOTM/total\n",
    "# labels = [\"1\",\"2\",\"3\",\"4\",\"5\",\"6\"]\n",
    "# fig, ax = plt.subplots(figsize = (10,12))\n",
    "# ax.bar(labels,Grocery_Budget_Strictness_LOTM_freq.loc[1],width = 0.65,label = \"1\")\n",
    "# pre = 0\n",
    "# for i in range(2,6): \n",
    "#     pre = pre+Grocery_Budget_Strictness_LOTM_freq.loc[i-1]\n",
    "#     ax.bar(labels,Grocery_Budget_Strictness_LOTM_freq.loc[i],width = 0.65,bottom=pre,label = str(i))\n",
    "# ax.set_ylabel(\"LOIM Percentage\")\n",
    "# ax.set_title(\"Distribution of LOIM in different Grocery_Budget_Strictness\")\n",
    "# ax.legend()\n",
    "# plt.show()"
   ]
  },
  {
   "cell_type": "code",
   "execution_count": null,
   "metadata": {},
   "outputs": [],
   "source": []
  }
 ],
 "metadata": {
  "kernelspec": {
   "display_name": "Python 3",
   "language": "python",
   "name": "python3"
  },
  "language_info": {
   "codemirror_mode": {
    "name": "ipython",
    "version": 3
   },
   "file_extension": ".py",
   "mimetype": "text/x-python",
   "name": "python",
   "nbconvert_exporter": "python",
   "pygments_lexer": "ipython3",
   "version": "3.8.3"
  }
 },
 "nbformat": 4,
 "nbformat_minor": 4
}
