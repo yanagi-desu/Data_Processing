{
 "cells": [
  {
   "cell_type": "code",
   "execution_count": 6,
   "metadata": {},
   "outputs": [],
   "source": [
    "#Remeber to Citi!!!!!!!\n",
    "#If you publish work that uses NLTK, please cite the NLTK book as follows:\n",
    "#Bird, Steven, Edward Loper and Ewan Klein (2009), Natural Language Processing with Python. O’Reilly Media Inc.\n",
    "\n",
    "from scipy import stats as st\n",
    "from scipy.stats import chisquare\n",
    "import pandas as pd\n",
    "from nltk.corpus import knbc"
   ]
  },
  {
   "cell_type": "code",
   "execution_count": 8,
   "metadata": {},
   "outputs": [
    {
     "name": "stdout",
     "output_type": "stream",
     "text": [
      "Gender_q5\n",
      "chi2 statistic:     4.4674\n",
      "p-value:            0.34644\n",
      "degrees of freedom: 4\n",
      "expected frequencies:\n",
      "[[243.22125  230.77875 ]\n",
      " [224.74875  213.25125 ]\n",
      " [166.765625 158.234375]\n",
      " [159.06875  150.93125 ]\n",
      " [ 27.195625  25.804375]]\n",
      "\n",
      "\n"
     ]
    }
   ],
   "source": [
    "survey_raw = pd.read_csv(\"Raw_survey_data.csv\")\n",
    "survey_raw[\"dummy\"] = [1]*1600\n",
    "#---------------------------------------------------------------#\n",
    "#Quick Overview of the Data                                     #  \n",
    "#---------------------------------------------------------------#\n",
    "pivot_LOI_gender = survey_raw.pivot_table(\"dummy\",index = \"q5\",columns = \"Sex\",aggfunc=sum)\n",
    "pivot_LOI_gender.rename(columns = {'q5':'LOI'})\n",
    "chi2,p,dof,expected = st.chi2_contingency(pivot_LOI_gender)\n",
    "print(f\"Gender_q5\")\n",
    "print(f\"chi2 statistic:     {chi2:.5g}\")\n",
    "print(f\"p-value:            {p:.5g}\")\n",
    "print(f\"degrees of freedom: {dof}\")\n",
    "print(\"expected frequencies:\")\n",
    "print(expected)\n",
    "print(\"\\n\")\n",
    "\n",
    "# pivot_LOI_age = survey_raw.pivot_table(\"dummy\",index = \"q5\",columns = \"Age_Catagory\",aggfunc=sum)\n",
    "# chi2,p,dof,expected = st.chi2_contingency(pivot_q5_age)\n",
    "# print(f\"Age_q5\")\n",
    "# print(f\"chi2 statistic:     {chi2:.5g}\")\n",
    "# print(f\"p-value:            {p:.5g}\")\n",
    "# print(f\"degrees of freedom: {dof}\")\n",
    "# print(\"expected frequencies:\")\n",
    "# print(expected)\n",
    "# print(\"\\n\")\n",
    "\n",
    "# pivot_q5_LocationOfLiving = survey_raw.pivot_table(\"dummy\",index = \"q5\",columns = \"Prefecture_code\",aggfunc=sum)\n",
    "# chi2,p,dof,expected = st.chi2_contingency(pivot_q5_LocationOfLiving)\n",
    "# print(f\"LocationOfLiving_q5\")\n",
    "# print(f\"chi2 statistic:     {chi2:.5g}\")\n",
    "# print(f\"p-value:            {p:.5g}\")\n",
    "# print(f\"degrees of freedom: {dof}\")\n",
    "# print(\"expected frequencies:\")\n",
    "# print(expected)\n",
    "# print(\"\\n\")\n",
    "\n",
    "# pivot_q5_Marriage = survey_raw.pivot_table(\"dummy\",index = \"q5\",columns = \"Married\",aggfunc=sum)\n",
    "# chi2,p,dof,expected = st.chi2_contingency(pivot_q5_Marriage)\n",
    "# print(f\"Marriage_q5\")\n",
    "# print(f\"chi2 statistic:     {chi2:.5g}\")\n",
    "# print(f\"p-value:            {p:.5g}\")\n",
    "# print(f\"degrees of freedom: {dof}\")\n",
    "# print(\"expected frequencies:\")\n",
    "# print(expected)\n",
    "# print(\"\\n\")\n",
    "\n",
    "# pivot_q5_TypeOfHouse = survey_raw.pivot_table(\"dummy\",index = \"q5\",columns = \"q17\",aggfunc=sum)\n",
    "# pivot_q5_TypeOfHouse = pivot_q5_TypeOfHouse.fillna(0)\n",
    "# chi2,p,dof,expected = st.chi2_contingency(pivot_q5_TypeOfHouse)\n",
    "# print(f\"TypeOfHouse_q5\")\n",
    "# print(f\"chi2 statistic:     {chi2:.5g}\")\n",
    "# print(f\"p-value:            {p:.5g}\")\n",
    "# print(f\"degrees of freedom: {dof}\")\n",
    "# print(\"expected frequencies:\")\n",
    "# print(expected)\n",
    "# print(\"\\n\")\n",
    "\n",
    "# pivot_q5_HouseHold = survey_raw.pivot_table(\"dummy\",index = \"q5\",columns = \"q18\",aggfunc=sum)\n",
    "# pivot_q5_HouseHold = pivot_q5_HouseHold.fillna(0)\n",
    "# chi2,p,dof,expected = st.chi2_contingency(pivot_q5_HouseHold)\n",
    "# print(f\"HouseHold_q5\")\n",
    "# print(f\"chi2 statistic:     {chi2:.5g}\")\n",
    "# print(f\"p-value:            {p:.5g}\")\n",
    "# print(f\"degrees of freedom: {dof}\")\n",
    "# print(\"expected frequencies:\")\n",
    "# print(expected)\n",
    "# print(\"\\n\")\n",
    "\n",
    "# pivot_q5_budgetStrictness = survey_raw.pivot_table(\"dummy\",index = \"q5\",columns = \"q19\",aggfunc=sum)\n",
    "# pivot_q5_budgetStrictness = pivot_q5_budgetStrictness.fillna(0)\n",
    "# chi2,p,dof,expected = st.chi2_contingency(pivot_q5_budgetStrictness)\n",
    "# print(f\"budgetStrictness_q5\")\n",
    "# print(f\"chi2 statistic:     {chi2:.5g}\")\n",
    "# print(f\"p-value:            {p:.5g}\")\n",
    "# print(f\"degrees of freedom: {dof}\")\n",
    "# print(\"expected frequencies:\")\n",
    "# print(expected)\n",
    "# print(\"\\n\")\n",
    "\n",
    "# pivot_q5_likeVeggie = survey_raw.pivot_table(\"dummy\",index = \"q5\",columns = \"q12_8\",aggfunc=sum)\n",
    "# pivot_q5_likeVeggie = pivot_q5_likeVeggie.fillna(0)\n",
    "# # pivot_q5_likeVeggie.plot(kind = \"bar\")\n",
    "# chi2,p,dof,expected = st.chi2_contingency(pivot_q5_likeVeggie)\n",
    "# print(f\"likeVeggie_q5\")\n",
    "# print(f\"chi2 statistic:     {chi2:.5g}\")\n",
    "# print(f\"p-value:            {p:.5g}\")\n",
    "# print(f\"degrees of freedom: {dof}\")\n",
    "# print(\"expected frequencies:\")\n",
    "# print(expected)\n",
    "# print(\"\\n\")\n"
   ]
  },
  {
   "cell_type": "code",
   "execution_count": null,
   "metadata": {},
   "outputs": [],
   "source": []
  },
  {
   "cell_type": "code",
   "execution_count": 3,
   "metadata": {
    "scrolled": true
   },
   "outputs": [
    {
     "name": "stdout",
     "output_type": "stream",
     "text": [
      "Age_Catagory   2    3    4    5   6\n",
      "q5                                 \n",
      "1             57  107  112  109  89\n",
      "2             76   80  104   99  79\n",
      "3             53   58   84   75  55\n",
      "4             75   52   85   45  53\n",
      "5             14   13   11    8   7\n",
      "Age_q5\n",
      "chi2 statistic:     36.082\n",
      "p-value:            0.0028184\n",
      "degrees of freedom: 16\n",
      "expected frequencies:\n",
      "[[ 81.46875   91.8375   117.315     99.54      83.83875 ]\n",
      " [ 75.28125   84.8625   108.405     91.98      77.47125 ]\n",
      " [ 55.859375  62.96875   80.4375    68.25      57.484375]\n",
      " [ 53.28125   60.0625    76.725     65.1       54.83125 ]\n",
      " [  9.109375  10.26875   13.1175    11.13       9.374375]]\n",
      "\n",
      "\n"
     ]
    },
    {
     "data": {
      "text/plain": [
       "F_onewayResult(statistic=0.38662597204409305, pvalue=0.8156281611429794)"
      ]
     },
     "execution_count": 3,
     "metadata": {},
     "output_type": "execute_result"
    }
   ],
   "source": [
    "#-------------------------------------------------------------------------------------#\n",
    "#                  LOI for Market Analysis with regard to Age                         #  \n",
    "#-------------------------------------------------------------------------------------#\n",
    "pivot_LOIM_age = survey_raw.pivot_table(\"dummy\",index = \"q5\",columns = \"Age_Catagory\",aggfunc=sum)\n",
    "pivot_LOIM_age.rename(columns={'q5':'LOIM'}) \n",
    "print(pivot_LOIM_age)\n",
    "chi2,p,dof,expected = st.chi2_contingency(pivot_LOIM_age)\n",
    "print(f\"Age_q5\")\n",
    "print(f\"chi2 statistic:     {chi2:.5g}\")\n",
    "print(f\"p-value:            {p:.5g}\")\n",
    "print(f\"degrees of freedom: {dof}\")\n",
    "print(\"expected frequencies:\")\n",
    "print(expected)\n",
    "print(\"\\n\")\n",
    "\n",
    "pivot_LOIM_age_6 = pivot_LOIM_age[6]\n",
    "pivot_LOIM_age_5 = pivot_LOIM_age[5]\n",
    "pivot_LOIM_age_4 = pivot_LOIM_age[4]\n",
    "pivot_LOIM_age_3 = pivot_LOIM_age[3]\n",
    "pivot_LOIM_age_2 = pivot_LOIM_age[2]\n",
    "st.f_oneway(pivot_LOIM_age_6,pivot_LOIM_age_5,pivot_LOIM_age_4,pivot_LOIM_age_3,pivot_LOIM_age_2)"
   ]
  },
  {
   "cell_type": "code",
   "execution_count": 4,
   "metadata": {},
   "outputs": [],
   "source": [
    "#-------------------------------------------------------------------------------------#\n",
    "#           LOI for Market Analysis with regard to Meat-Loverness                     #  \n",
    "#-------------------------------------------------------------------------------------#\n",
    "# pivot_q5_likeMeat = survey_raw.pivot_table(\"dummy\",index = \"q5\",columns = \"q12_3\",aggfunc=sum)\n",
    "# pivot_q5_likeMeat = pivot_q5_likeMeat.fillna(0)\n",
    "# print(pivot_q5_likeMeat)\n",
    "# chi2,p,dof,expected = st.chi2_contingency(pivot_q5_likeMeat)\n",
    "# print(f\"likeMeat_q5\")\n",
    "# print(f\"chi2 statistic:     {chi2:.5g}\")\n",
    "# print(f\"p-value:            {p:.5g}\")\n",
    "# print(f\"degrees of freedom: {dof}\")\n",
    "# print(\"expected frequencies:\")\n",
    "# print(expected)\n",
    "# print(\"\\n\")\n",
    "\n",
    "# pivot_q5_likeMeat_5 = pivot_q5_likeMeat[5]\n",
    "# pivot_q5_likeMeat_4 = pivot_q5_likeMeat[4]\n",
    "# pivot_q5_likeMeat_3 = pivot_q5_likeMeat[3]\n",
    "# pivot_q5_likeMeat_2 = pivot_q5_likeMeat[2]\n",
    "# st.f_oneway(pivot_q5_likeMeat_5,pivot_q5_likeMeat_4,pivot_q5_likeMeat_3,pivot_q5_likeMeat_2)"
   ]
  },
  {
   "cell_type": "code",
   "execution_count": null,
   "metadata": {},
   "outputs": [],
   "source": []
  },
  {
   "cell_type": "code",
   "execution_count": null,
   "metadata": {},
   "outputs": [],
   "source": []
  },
  {
   "cell_type": "code",
   "execution_count": null,
   "metadata": {},
   "outputs": [],
   "source": []
  }
 ],
 "metadata": {
  "kernelspec": {
   "display_name": "Python 3",
   "language": "python",
   "name": "python3"
  },
  "language_info": {
   "codemirror_mode": {
    "name": "ipython",
    "version": 3
   },
   "file_extension": ".py",
   "mimetype": "text/x-python",
   "name": "python",
   "nbconvert_exporter": "python",
   "pygments_lexer": "ipython3",
   "version": "3.8.5"
  }
 },
 "nbformat": 4,
 "nbformat_minor": 4
}
